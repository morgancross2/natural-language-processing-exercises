{
 "cells": [
  {
   "cell_type": "code",
   "execution_count": 2,
   "id": "8a8cdcf7-533b-417c-8894-fbc36dc0f588",
   "metadata": {},
   "outputs": [],
   "source": [
    "import pandas as pd\n",
    "import re"
   ]
  },
  {
   "cell_type": "markdown",
   "id": "b3f9b522-447b-4f43-8748-81edebbc616e",
   "metadata": {},
   "source": [
    "#### 1. Write a function named is_vowel. It should accept a string as input and use a regular expression to determine if the passed string is a vowel."
   ]
  },
  {
   "cell_type": "code",
   "execution_count": 222,
   "id": "262ffaa3-dd0e-4185-8b2c-60fbe38c16a5",
   "metadata": {},
   "outputs": [],
   "source": [
    "def is_vowel(s):\n",
    "    r = r'[aeiou]'\n",
    "    results = re.findall(r, s, re.IGNORECASE)\n",
    "\n",
    "    if (len(results) == 1) & (len(s) == 1):\n",
    "        return True\n",
    "    else:\n",
    "        return False"
   ]
  },
  {
   "cell_type": "code",
   "execution_count": 223,
   "id": "c610abb7-7d1f-481f-b08b-39ce604b4302",
   "metadata": {},
   "outputs": [
    {
     "data": {
      "text/plain": [
       "True"
      ]
     },
     "execution_count": 223,
     "metadata": {},
     "output_type": "execute_result"
    }
   ],
   "source": [
    "is_vowel('A')"
   ]
  },
  {
   "cell_type": "code",
   "execution_count": 230,
   "id": "bd30c0fc-06d2-4e4a-ad98-ec4a8a6eb778",
   "metadata": {},
   "outputs": [],
   "source": [
    "# another way\n",
    "def is_vowel2(s):\n",
    "    r = r'^[aeiou]$'\n",
    "    match = re.search(r, s, re.IGNORECASE)\n",
    "    \n",
    "    if match:\n",
    "        return True\n",
    "    else:\n",
    "        return False"
   ]
  },
  {
   "cell_type": "code",
   "execution_count": 231,
   "id": "a677fe57-1303-41d0-bd86-2bcade5b8875",
   "metadata": {},
   "outputs": [
    {
     "data": {
      "text/plain": [
       "False"
      ]
     },
     "execution_count": 231,
     "metadata": {},
     "output_type": "execute_result"
    }
   ],
   "source": [
    "is_vowel2('Ag')"
   ]
  },
  {
   "cell_type": "markdown",
   "id": "875fb48b-8b75-472d-9db2-d0785eec80bd",
   "metadata": {},
   "source": [
    "#### 2. Write a function named is_valid_username that accepts a string as input. A valid username starts with a lowercase letter, and only consists of lowercase letters, numbers, or the _ character. It should also be no longer than 32 characters. The function should return either True or False depending on whether the passed string is a valid username."
   ]
  },
  {
   "cell_type": "code",
   "execution_count": 262,
   "id": "49b9be1b-5fe8-4dc5-b5aa-99618ba766c3",
   "metadata": {},
   "outputs": [],
   "source": [
    "def is_valid_username(s):\n",
    "    r = r'^[a-z][a-zA-Z0-9_]*$'\n",
    "    results = re.search(r, s)\n",
    "    if results is None:\n",
    "        return False\n",
    "    elif len(s) > 32:\n",
    "        return False\n",
    "    else:\n",
    "        return True"
   ]
  },
  {
   "cell_type": "code",
   "execution_count": 264,
   "id": "e5021149-c98e-497f-bee8-8bcb8a5f95c7",
   "metadata": {},
   "outputs": [
    {
     "data": {
      "text/plain": [
       "True"
      ]
     },
     "execution_count": 264,
     "metadata": {},
     "output_type": "execute_result"
    }
   ],
   "source": [
    "is_valid_username('a_bcdehijklmnopqrstvwxyzabcde_')"
   ]
  },
  {
   "cell_type": "code",
   "execution_count": 265,
   "id": "72055dfe-ac77-4aeb-8c23-a359d682ebb2",
   "metadata": {},
   "outputs": [],
   "source": [
    "# another way, \\w includes the underscore character!\n",
    "def is_valid_username2(s):\n",
    "    r = r'^[a-z]\\w{,31}$'\n",
    "    \n",
    "    if re.search(r, s):\n",
    "        return True\n",
    "    else:\n",
    "        return False"
   ]
  },
  {
   "cell_type": "code",
   "execution_count": 266,
   "id": "4be19eb7-babd-4a1f-8bed-2301fd0d2df3",
   "metadata": {},
   "outputs": [
    {
     "data": {
      "text/plain": [
       "True"
      ]
     },
     "execution_count": 266,
     "metadata": {},
     "output_type": "execute_result"
    }
   ],
   "source": [
    "is_valid_username2('aaaaaabcdefghijklmnopyzabcde_')"
   ]
  },
  {
   "cell_type": "code",
   "execution_count": 267,
   "id": "c7afaa25-1abf-436e-946c-5691e734607a",
   "metadata": {},
   "outputs": [
    {
     "data": {
      "text/plain": [
       "False"
      ]
     },
     "execution_count": 267,
     "metadata": {},
     "output_type": "execute_result"
    }
   ],
   "source": [
    "is_valid_username2('a!')"
   ]
  },
  {
   "cell_type": "markdown",
   "id": "ab753bac-9215-45a8-a048-f36763875734",
   "metadata": {},
   "source": [
    "#### 3. Write a regular expression to capture phone numbers."
   ]
  },
  {
   "cell_type": "code",
   "execution_count": 268,
   "id": "c5e2d684-ead4-4322-b100-e02cb0414c4b",
   "metadata": {},
   "outputs": [],
   "source": [
    "def capture_phone_numbers(s):\n",
    "    r = r'[0-9][0-9][0-9].[0-9][0-9][0-9].[0-9][0-9][0-9][0-9]'\n",
    "    results = re.findall(r, s)\n",
    "    final = []\n",
    "    for number in results:\n",
    "        final.append(re.sub(r'[^0-9]', '-', number))\n",
    "        \n",
    "    return final"
   ]
  },
  {
   "cell_type": "code",
   "execution_count": 269,
   "id": "82aa72aa-d867-4aec-9b71-74388e23a366",
   "metadata": {},
   "outputs": [
    {
     "data": {
      "text/plain": [
       "['123-456-7890', '234-345-7632', '453-213-4123']"
      ]
     },
     "execution_count": 269,
     "metadata": {},
     "output_type": "execute_result"
    }
   ],
   "source": [
    "s='a number is 123-456-7890 here too 234/345-7632 and another one 453-213-4123 and a bad one 353-1453-124'\n",
    "capture_phone_numbers(s)"
   ]
  },
  {
   "cell_type": "code",
   "execution_count": 258,
   "id": "d428f6a7-4bd4-43b1-ae76-02e617008bf7",
   "metadata": {},
   "outputs": [
    {
     "data": {
      "text/plain": [
       "['210-867-5309', '210-867-5309']"
      ]
     },
     "execution_count": 258,
     "metadata": {},
     "output_type": "execute_result"
    }
   ],
   "source": [
    "test = '''(210) 867 5309\n",
    "+1 210.867.5309\n",
    "867-5309\n",
    "210-867-5309'''\n",
    "capture_phone_numbers(test)"
   ]
  },
  {
   "cell_type": "code",
   "execution_count": 320,
   "id": "dfb27c3c-9356-405a-b4e2-cbc2287e4182",
   "metadata": {},
   "outputs": [],
   "source": [
    "# another way\n",
    "def capture_phone_numbers2(numbers):\n",
    "    r = r'^.*?\\d+?.?\\d+?\\D*?\\d+.?\\d{4}$'\n",
    "    for number in numbers:\n",
    "        if re.search(r, number):\n",
    "            print(f'{number} is a phone number')\n",
    "        else:\n",
    "            print(f'{number} is not a phone number')"
   ]
  },
  {
   "cell_type": "code",
   "execution_count": 321,
   "id": "ccd7b8a0-d6a7-4dfe-80e7-143e061fc1bb",
   "metadata": {},
   "outputs": [
    {
     "name": "stdout",
     "output_type": "stream",
     "text": [
      "(210) 867 5309 is a phone number\n",
      "+1 210.867.5309 is a phone number\n",
      "867-5309 is a phone number\n",
      "210-867-5309 is a phone number\n",
      "abc is not a phone number\n",
      "238768 is not a phone number\n"
     ]
    }
   ],
   "source": [
    "test = ['(210) 867 5309',\n",
    "'+1 210.867.5309',\n",
    "'867-5309',\n",
    "'210-867-5309',\n",
    "'abc',\n",
    "'238768']\n",
    "capture_phone_numbers2(test)"
   ]
  },
  {
   "cell_type": "markdown",
   "id": "28b5d436-2f92-4271-ad9a-d673ab44f70a",
   "metadata": {},
   "source": [
    "#### 4. Use regular expressions to convert the dates below to the standardized year-month-day format."
   ]
  },
  {
   "cell_type": "code",
   "execution_count": 322,
   "id": "26265f2d-af50-436f-b229-3574fff88cf5",
   "metadata": {},
   "outputs": [],
   "source": [
    "import datetime"
   ]
  },
  {
   "cell_type": "code",
   "execution_count": 323,
   "id": "4584878c-261a-4931-ad9c-8a24fe1f3dc7",
   "metadata": {},
   "outputs": [
    {
     "data": {
      "text/plain": [
       "['2019/02/04',\n",
       " '2019/02/05',\n",
       " '2019/02/06',\n",
       " '2019/02/07',\n",
       " '2019/02/08',\n",
       " '2019/02/09',\n",
       " '2019/02/10']"
      ]
     },
     "execution_count": 323,
     "metadata": {},
     "output_type": "execute_result"
    }
   ],
   "source": [
    "s = '''02/04/19\n",
    "        02/05/19\n",
    "        02/06/19\n",
    "        02/07/19\n",
    "        02/08/19\n",
    "        02/09/19\n",
    "        02/10/19'''\n",
    "r = r'([0-9][0-9]/[0-9][0-9]/[0-9][0-9])'\n",
    "results = re.findall(r, s)\n",
    "final = []\n",
    "for x in results:\n",
    "    day = pd.to_datetime(x)\n",
    "    final.append(day.strftime('%Y') + '/' + day.strftime('%m') + '/' + day.strftime('%d'))\n",
    "final"
   ]
  },
  {
   "cell_type": "code",
   "execution_count": 336,
   "id": "843cc1eb-4578-4100-b38b-2fc95c45f73e",
   "metadata": {},
   "outputs": [
    {
     "name": "stdout",
     "output_type": "stream",
     "text": [
      "2019/02/04\n",
      "2019/02/05\n",
      "2019/02/06\n",
      "2019/02/07\n",
      "2019/02/08\n",
      "2019/02/09\n",
      "2019/02/10\n"
     ]
    }
   ],
   "source": [
    "# another way, can call on and rearrange capture groups\n",
    "dates =['02/04/19',\n",
    "        '02/05/19',\n",
    "        '02/06/19',\n",
    "        '02/07/19',\n",
    "        '02/08/19',\n",
    "        '02/09/19',\n",
    "        '02/10/19']\n",
    "r = r'(\\d{2})/(\\d{2})/(\\d{2})'\n",
    "for date in dates:\n",
    "    print(re.sub(r, r'20\\3/\\1/\\2' ,date))"
   ]
  },
  {
   "cell_type": "markdown",
   "id": "e6c4bc6e-8b4b-4a1f-9568-eca078c9b90b",
   "metadata": {},
   "source": [
    "#### 5. Write a regex to extract the various parts of these logfile lines:"
   ]
  },
  {
   "cell_type": "code",
   "execution_count": 349,
   "id": "ec86e5bf-ea4c-494c-bc9c-7ccd61d03ad3",
   "metadata": {},
   "outputs": [],
   "source": [
    "files = '''\n",
    "GET /api/v1/sales?page=86 [16/Apr/2019:193452+0000] HTTP/1.1 {200} 510348 \"python-requests/2.21.0\" 97.105.19.58\n",
    "POST /users_accounts/file-upload [16/Apr/2019:193452+0000] HTTP/1.1 {201} 42 \"User-Agent: Mozilla/5.0 (X11; Fedora; Fedora; Linux x86_64) AppleWebKit/537.36 (KHTML, like Gecko) Chrome/73.0.3683.86 Safari/537.36\" 97.105.19.58\n",
    "GET /api/v1/items?page=3 [16/Apr/2019:193453+0000] HTTP/1.1 {429} 3561 \"python-requests/2.21.0\" 97.105.19.58\n",
    "'''\n"
   ]
  },
  {
   "cell_type": "code",
   "execution_count": 350,
   "id": "176cf285-44ad-4fbc-b28a-6aefcf4137a1",
   "metadata": {},
   "outputs": [
    {
     "data": {
      "text/plain": [
       "'GET /api/v1/sales?page=86 [16/Apr/2019:193452+0000] HTTP/1.1 {200} 510348 \"python-requests/2.21.0\" 97.105.19.58'"
      ]
     },
     "execution_count": 350,
     "metadata": {},
     "output_type": "execute_result"
    }
   ],
   "source": [
    "lines = pd.Series(files.strip().split('\\n'))\n",
    "lines[0]"
   ]
  },
  {
   "cell_type": "code",
   "execution_count": 351,
   "id": "c66c875c-0919-409a-bedb-d1a5fbafd56e",
   "metadata": {},
   "outputs": [
    {
     "data": {
      "text/html": [
       "<div>\n",
       "<style scoped>\n",
       "    .dataframe tbody tr th:only-of-type {\n",
       "        vertical-align: middle;\n",
       "    }\n",
       "\n",
       "    .dataframe tbody tr th {\n",
       "        vertical-align: top;\n",
       "    }\n",
       "\n",
       "    .dataframe thead th {\n",
       "        text-align: right;\n",
       "    }\n",
       "</style>\n",
       "<table border=\"1\" class=\"dataframe\">\n",
       "  <thead>\n",
       "    <tr style=\"text-align: right;\">\n",
       "      <th></th>\n",
       "      <th>method</th>\n",
       "      <th>path</th>\n",
       "      <th>timestamp</th>\n",
       "      <th>status</th>\n",
       "      <th>bytes</th>\n",
       "      <th>user_agent</th>\n",
       "      <th>ip</th>\n",
       "    </tr>\n",
       "  </thead>\n",
       "  <tbody>\n",
       "    <tr>\n",
       "      <th>0</th>\n",
       "      <td>GET</td>\n",
       "      <td>/api/v1/sales?page=86</td>\n",
       "      <td>16/Apr/2019:193452+0000</td>\n",
       "      <td>200</td>\n",
       "      <td>510348</td>\n",
       "      <td>python-requests/2.21.0</td>\n",
       "      <td>97.105.19.58</td>\n",
       "    </tr>\n",
       "    <tr>\n",
       "      <th>1</th>\n",
       "      <td>POST</td>\n",
       "      <td>/users_accounts/file-upload</td>\n",
       "      <td>16/Apr/2019:193452+0000</td>\n",
       "      <td>201</td>\n",
       "      <td>42</td>\n",
       "      <td>User-Agent: Mozilla/5.0 (X11; Fedora; Fedora; ...</td>\n",
       "      <td>97.105.19.58</td>\n",
       "    </tr>\n",
       "    <tr>\n",
       "      <th>2</th>\n",
       "      <td>GET</td>\n",
       "      <td>/api/v1/items?page=3</td>\n",
       "      <td>16/Apr/2019:193453+0000</td>\n",
       "      <td>429</td>\n",
       "      <td>3561</td>\n",
       "      <td>python-requests/2.21.0</td>\n",
       "      <td>97.105.19.58</td>\n",
       "    </tr>\n",
       "  </tbody>\n",
       "</table>\n",
       "</div>"
      ],
      "text/plain": [
       "  method                          path                timestamp status  \\\n",
       "0    GET        /api/v1/sales?page=86   16/Apr/2019:193452+0000    200   \n",
       "1   POST  /users_accounts/file-upload   16/Apr/2019:193452+0000    201   \n",
       "2    GET         /api/v1/items?page=3   16/Apr/2019:193453+0000    429   \n",
       "\n",
       "    bytes                                         user_agent            ip  \n",
       "0  510348                             python-requests/2.21.0  97.105.19.58  \n",
       "1      42  User-Agent: Mozilla/5.0 (X11; Fedora; Fedora; ...  97.105.19.58  \n",
       "2    3561                             python-requests/2.21.0  97.105.19.58  "
      ]
     },
     "execution_count": 351,
     "metadata": {},
     "output_type": "execute_result"
    }
   ],
   "source": [
    "regex = r'''\n",
    "(?P<method>.*?)\\s\n",
    "(?P<path>.*?\\s)\\[\n",
    "(?P<timestamp>.*?)\\]\\s.*?\\{\n",
    "(?P<status>.*?)\\}\\s\n",
    "(?P<bytes>\\d*)\\s\"\n",
    "(?P<user_agent>.*?)\"\\s.*?\n",
    "(?P<ip>.*?)$\n",
    "'''\n",
    "regex = re.compile(regex, re.VERBOSE)\n",
    "lines.str.extract(regex)"
   ]
  },
  {
   "cell_type": "code",
   "execution_count": 404,
   "id": "b8931b42-b7db-40cc-98e9-59ced76fb316",
   "metadata": {},
   "outputs": [
    {
     "data": {
      "text/plain": [
       "[{'method': 'GET',\n",
       "  'path': '/api/v1/sales?page=86',\n",
       "  'date': '16/Apr/2019',\n",
       "  'http_version': 'HTTP/1.1',\n",
       "  'response_code': '200',\n",
       "  'bytes': '510348',\n",
       "  'user_agent': 'python-requests/2.21.0',\n",
       "  'ip': '97.105.19.58'},\n",
       " {'method': 'POST',\n",
       "  'path': '/users_accounts/file-upload',\n",
       "  'date': '16/Apr/2019',\n",
       "  'http_version': 'HTTP/1.1',\n",
       "  'response_code': '201',\n",
       "  'bytes': '42',\n",
       "  'user_agent': 'User-Agent: Mozilla/5.0 (X11; Fedora; Fedora; Linux x86_64) AppleWebKit/537.36 (KHTML, like Gecko) Chrome/73.0.3683.86 Safari/537.36',\n",
       "  'ip': '97.105.19.58'},\n",
       " {'method': 'GET',\n",
       "  'path': '/api/v1/items?page=3',\n",
       "  'date': '16/Apr/2019',\n",
       "  'http_version': 'HTTP/1.1',\n",
       "  'response_code': '429',\n",
       "  'bytes': '3561',\n",
       "  'user_agent': 'python-requests/2.21.0',\n",
       "  'ip': '97.105.19.58'}]"
      ]
     },
     "execution_count": 404,
     "metadata": {},
     "output_type": "execute_result"
    }
   ],
   "source": [
    "# another way\n",
    "r = r'''\n",
    "(?P<method>\\w+)\\s\n",
    "(?P<path>.*?)\\s\\[\n",
    "(?P<date>.*?)\\:.*?\\s\n",
    "(?P<http_version>.*?)\\s\\{\n",
    "(?P<response_code>\\d+).*?\n",
    "(?P<bytes>\\d+)\\s\"\n",
    "(?P<user_agent>.*?)\"\\s\n",
    "(?P<ip>.*)'''\n",
    "\n",
    "\n",
    "logs_parsed = [re.search(r, log, re.VERBOSE).groupdict() for log in lines] \n",
    "logs_parsed"
   ]
  },
  {
   "cell_type": "code",
   "execution_count": 405,
   "id": "51627640-b1c0-4d5b-b368-dcafae020206",
   "metadata": {},
   "outputs": [
    {
     "data": {
      "text/html": [
       "<div>\n",
       "<style scoped>\n",
       "    .dataframe tbody tr th:only-of-type {\n",
       "        vertical-align: middle;\n",
       "    }\n",
       "\n",
       "    .dataframe tbody tr th {\n",
       "        vertical-align: top;\n",
       "    }\n",
       "\n",
       "    .dataframe thead th {\n",
       "        text-align: right;\n",
       "    }\n",
       "</style>\n",
       "<table border=\"1\" class=\"dataframe\">\n",
       "  <thead>\n",
       "    <tr style=\"text-align: right;\">\n",
       "      <th></th>\n",
       "      <th>method</th>\n",
       "      <th>path</th>\n",
       "      <th>date</th>\n",
       "      <th>http_version</th>\n",
       "      <th>response_code</th>\n",
       "      <th>bytes</th>\n",
       "      <th>user_agent</th>\n",
       "      <th>ip</th>\n",
       "    </tr>\n",
       "  </thead>\n",
       "  <tbody>\n",
       "    <tr>\n",
       "      <th>0</th>\n",
       "      <td>GET</td>\n",
       "      <td>/api/v1/sales?page=86</td>\n",
       "      <td>16/Apr/2019</td>\n",
       "      <td>HTTP/1.1</td>\n",
       "      <td>200</td>\n",
       "      <td>510348</td>\n",
       "      <td>python-requests/2.21.0</td>\n",
       "      <td>97.105.19.58</td>\n",
       "    </tr>\n",
       "    <tr>\n",
       "      <th>1</th>\n",
       "      <td>POST</td>\n",
       "      <td>/users_accounts/file-upload</td>\n",
       "      <td>16/Apr/2019</td>\n",
       "      <td>HTTP/1.1</td>\n",
       "      <td>201</td>\n",
       "      <td>42</td>\n",
       "      <td>User-Agent: Mozilla/5.0 (X11; Fedora; Fedora; ...</td>\n",
       "      <td>97.105.19.58</td>\n",
       "    </tr>\n",
       "    <tr>\n",
       "      <th>2</th>\n",
       "      <td>GET</td>\n",
       "      <td>/api/v1/items?page=3</td>\n",
       "      <td>16/Apr/2019</td>\n",
       "      <td>HTTP/1.1</td>\n",
       "      <td>429</td>\n",
       "      <td>3561</td>\n",
       "      <td>python-requests/2.21.0</td>\n",
       "      <td>97.105.19.58</td>\n",
       "    </tr>\n",
       "  </tbody>\n",
       "</table>\n",
       "</div>"
      ],
      "text/plain": [
       "  method                         path         date http_version response_code  \\\n",
       "0    GET        /api/v1/sales?page=86  16/Apr/2019     HTTP/1.1           200   \n",
       "1   POST  /users_accounts/file-upload  16/Apr/2019     HTTP/1.1           201   \n",
       "2    GET         /api/v1/items?page=3  16/Apr/2019     HTTP/1.1           429   \n",
       "\n",
       "    bytes                                         user_agent            ip  \n",
       "0  510348                             python-requests/2.21.0  97.105.19.58  \n",
       "1      42  User-Agent: Mozilla/5.0 (X11; Fedora; Fedora; ...  97.105.19.58  \n",
       "2    3561                             python-requests/2.21.0  97.105.19.58  "
      ]
     },
     "execution_count": 405,
     "metadata": {},
     "output_type": "execute_result"
    }
   ],
   "source": [
    "pd.DataFrame(logs_parsed)"
   ]
  },
  {
   "cell_type": "markdown",
   "id": "a354455f-0310-4cd7-87fc-29726bf9a636",
   "metadata": {},
   "source": [
    "#### Bonus: \n",
    "- How many words have at least 3 vowels?\n",
    "- How many words have at least 3 vowels in a row?\n",
    "- How many words have at least 4 consonants in a row?\n",
    "- How many words start and end with the same letter?\n",
    "- How many words start and end with a vowel?\n",
    "- How many words contain the same letter 3 times in a row?\n",
    "- What other interesting patterns in words can you find?"
   ]
  },
  {
   "cell_type": "code",
   "execution_count": 212,
   "id": "477f4a23-babf-4091-b30a-a583df3f5065",
   "metadata": {},
   "outputs": [],
   "source": [
    "f = open('/usr/share/dict/words', 'r')\n",
    "words = f.read()"
   ]
  },
  {
   "cell_type": "code",
   "execution_count": 406,
   "id": "8df85a8e-cc30-45cb-938d-b2c447d16ef7",
   "metadata": {},
   "outputs": [],
   "source": [
    "words = words.split('\\n')"
   ]
  },
  {
   "cell_type": "code",
   "execution_count": 407,
   "id": "674330e0-9dc1-48a8-8f00-5d3c37dde531",
   "metadata": {},
   "outputs": [
    {
     "data": {
      "text/plain": [
       "235887"
      ]
     },
     "execution_count": 407,
     "metadata": {},
     "output_type": "execute_result"
    }
   ],
   "source": [
    "len(words)"
   ]
  },
  {
   "cell_type": "code",
   "execution_count": null,
   "id": "72104401-7423-4290-9291-bfcd8e0a883b",
   "metadata": {},
   "outputs": [],
   "source": []
  }
 ],
 "metadata": {
  "kernelspec": {
   "display_name": "Python 3 (ipykernel)",
   "language": "python",
   "name": "python3"
  },
  "language_info": {
   "codemirror_mode": {
    "name": "ipython",
    "version": 3
   },
   "file_extension": ".py",
   "mimetype": "text/x-python",
   "name": "python",
   "nbconvert_exporter": "python",
   "pygments_lexer": "ipython3",
   "version": "3.9.12"
  }
 },
 "nbformat": 4,
 "nbformat_minor": 5
}
