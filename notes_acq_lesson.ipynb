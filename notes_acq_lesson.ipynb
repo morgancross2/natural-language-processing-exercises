{
 "cells": [
  {
   "cell_type": "markdown",
   "id": "092afe0d",
   "metadata": {},
   "source": [
    "# Intro to Web Scraping\n",
    "- Use `requests` to download the HTML\n",
    "- Use `BeautifulSoup` to parse that HTML to get the thing(s) you need"
   ]
  },
  {
   "cell_type": "markdown",
   "id": "d94ab8d2",
   "metadata": {},
   "source": [
    "## Process\n",
    "- Step 1: use the `request` library to make an HTTP request across the web\n",
    "- Step 2: use the `reponse.text` property on the `response` object to get the text of the HTML"
   ]
  },
  {
   "cell_type": "code",
   "execution_count": 10,
   "id": "32ffeca4",
   "metadata": {},
   "outputs": [],
   "source": [
    "from requests import get\n",
    "from bs4 import BeautifulSoup"
   ]
  },
  {
   "cell_type": "code",
   "execution_count": 2,
   "id": "38b133db",
   "metadata": {},
   "outputs": [],
   "source": [
    "url = 'https://site-to-scrape.glitch.me'"
   ]
  },
  {
   "cell_type": "code",
   "execution_count": 6,
   "id": "d6d698b0-2c0d-4291-9ccf-e28841b6f92a",
   "metadata": {},
   "outputs": [
    {
     "data": {
      "text/plain": [
       "'<!DOCTYPE html>\\n<html lang=\"en\">\\n  <head>\\n    <title>Site to Scrape!</title>\\n    <meta charset=\"utf-8\">\\n    <meta http-equiv=\"X-UA-Compatible\" content=\"IE=edge\">\\n    <meta name=\"viewport\" content=\"width=device-width, initial-scale=1\">\\n    \\n    <!-- import the webpage\\'s stylesheet -->\\n    <link rel=\"stylesheet\" href=\"/style.css\">\\n    \\n    <!-- import the webpage\\'s javascript file -->\\n    <script src=\"/script.js\" defer></script>\\n  </head>  \\n  <body>\\n    <header>\\n      <h1>This is the header!</h1>\\n      <hr>\\n    </header>\\n    \\n    <main>\\n      <div>\\n        <h1 class=\"first\">\\n        This is the main\\n        </h1>\\n        <h2>\\n          This is an h2 of main\\n        </h2>\\n        <h3>\\n          H3 inside of first div inside of main\\n        </h3>\\n      </div>\\n      <div>\\n        <h3 class=\"first\">\\n          H3 inside of second div inside of main.\\n        </h3>\\n        <p>\\n          Here\\'s some text content for us to scrape! 👽\\n        </p>\\n        <p>\\n          Here\\'s another paragraph of content! ☠️\\n        </p>\\n        <a href=\"https://github.com/ryanorsinger\">Click here to visit my portfolio</a>       \\n      </div>\\n    </main>\\n\\n    <footer>\\n      <h1>This is the footer</h1>\\n      <img src=\"https://traffic-analytics.glitch.me/counter.png?fallback=MY_WEBSITE&color=black\" alt=\"\" style=\"vertical-align: bottom;\" aria-hidden=\"true\">\\n    </footer>\\n\\n  </body>\\n</html>\\n'"
      ]
     },
     "execution_count": 6,
     "metadata": {},
     "output_type": "execute_result"
    }
   ],
   "source": [
    "get(url).text"
   ]
  },
  {
   "cell_type": "code",
   "execution_count": 11,
   "id": "d54165e3",
   "metadata": {},
   "outputs": [],
   "source": [
    "url2 = 'https://web-scraping-demo.zgulde.net/news'"
   ]
  },
  {
   "cell_type": "code",
   "execution_count": 53,
   "id": "95e54cb4",
   "metadata": {},
   "outputs": [
    {
     "data": {
      "text/plain": [
       "<!DOCTYPE html>\n",
       "\n",
       "<html lang=\"en\">\n",
       "<head>\n",
       "<title>Site to Scrape!</title>\n",
       "<meta charset=\"utf-8\"/>\n",
       "<meta content=\"IE=edge\" http-equiv=\"X-UA-Compatible\"/>\n",
       "<meta content=\"width=device-width, initial-scale=1\" name=\"viewport\"/>\n",
       "<!-- import the webpage's stylesheet -->\n",
       "<link href=\"/style.css\" rel=\"stylesheet\"/>\n",
       "<!-- import the webpage's javascript file -->\n",
       "<script defer=\"\" src=\"/script.js\"></script>\n",
       "</head>\n",
       "<body>\n",
       "<header>\n",
       "<h1>This is the header!</h1>\n",
       "<hr/>\n",
       "</header>\n",
       "<main>\n",
       "<div>\n",
       "<h1 class=\"first\">\n",
       "        This is the main\n",
       "        </h1>\n",
       "<h2>\n",
       "          This is an h2 of main\n",
       "        </h2>\n",
       "<h3>\n",
       "          H3 inside of first div inside of main\n",
       "        </h3>\n",
       "</div>\n",
       "<div>\n",
       "<h3 class=\"first\">\n",
       "          H3 inside of second div inside of main.\n",
       "        </h3>\n",
       "<p>\n",
       "          Here's some text content for us to scrape! 👽\n",
       "        </p>\n",
       "<p>\n",
       "          Here's another paragraph of content! ☠️\n",
       "        </p>\n",
       "<a href=\"https://github.com/ryanorsinger\">Click here to visit my portfolio</a>\n",
       "</div>\n",
       "</main>\n",
       "<footer>\n",
       "<h1>This is the footer</h1>\n",
       "<img alt=\"\" aria-hidden=\"true\" src=\"https://traffic-analytics.glitch.me/counter.png?fallback=MY_WEBSITE&amp;color=black\" style=\"vertical-align: bottom;\"/>\n",
       "</footer>\n",
       "</body>\n",
       "</html>"
      ]
     },
     "execution_count": 53,
     "metadata": {},
     "output_type": "execute_result"
    }
   ],
   "source": [
    "soup = BeautifulSoup(get(url).content, 'html.parser')\n",
    "soup"
   ]
  },
  {
   "cell_type": "code",
   "execution_count": 54,
   "id": "85cbe785",
   "metadata": {},
   "outputs": [
    {
     "data": {
      "text/plain": [
       "<p>\n",
       "          Here's some text content for us to scrape! 👽\n",
       "        </p>"
      ]
     },
     "execution_count": 54,
     "metadata": {},
     "output_type": "execute_result"
    }
   ],
   "source": [
    "soup.p"
   ]
  },
  {
   "cell_type": "code",
   "execution_count": 55,
   "id": "a773ac63",
   "metadata": {},
   "outputs": [
    {
     "data": {
      "text/plain": [
       "<p>\n",
       "          Here's some text content for us to scrape! 👽\n",
       "        </p>"
      ]
     },
     "execution_count": 55,
     "metadata": {},
     "output_type": "execute_result"
    }
   ],
   "source": [
    "soup.find('p')"
   ]
  },
  {
   "cell_type": "code",
   "execution_count": 56,
   "id": "2e3268cf",
   "metadata": {},
   "outputs": [
    {
     "data": {
      "text/plain": [
       "<p>\n",
       "          Here's another paragraph of content! ☠️\n",
       "        </p>"
      ]
     },
     "execution_count": 56,
     "metadata": {},
     "output_type": "execute_result"
    }
   ],
   "source": [
    "soup.find_all('p')[1]"
   ]
  },
  {
   "cell_type": "code",
   "execution_count": 57,
   "id": "b021ef34",
   "metadata": {},
   "outputs": [
    {
     "data": {
      "text/plain": [
       "\"Here's another paragraph of content! ☠️\""
      ]
     },
     "execution_count": 57,
     "metadata": {},
     "output_type": "execute_result"
    }
   ],
   "source": [
    "soup.find_all('p')[1].text.strip()"
   ]
  },
  {
   "cell_type": "code",
   "execution_count": 58,
   "id": "d1e97766",
   "metadata": {},
   "outputs": [
    {
     "data": {
      "text/plain": [
       "['This is the header!', 'This is the main', 'This is the footer']"
      ]
     },
     "execution_count": 58,
     "metadata": {},
     "output_type": "execute_result"
    }
   ],
   "source": [
    "[thing.text.strip() for thing in soup.select('h1')]"
   ]
  },
  {
   "cell_type": "code",
   "execution_count": 59,
   "id": "361a4268",
   "metadata": {},
   "outputs": [
    {
     "data": {
      "text/plain": [
       "<!DOCTYPE html>\n",
       "\n",
       "<html lang=\"en\">\n",
       "<head>\n",
       "<meta charset=\"utf-8\"/>\n",
       "<meta content=\"IE=edge\" http-equiv=\"X-UA-Compatible\"/>\n",
       "<meta content=\"width=device-width, initial-scale=1.0\" name=\"viewport\"/>\n",
       "<title>News Example Page</title>\n",
       "<link href=\"https://unpkg.com/tailwindcss@^2/dist/tailwind.min.css\" rel=\"stylesheet\"/>\n",
       "<link href=\"https://cdn.jsdelivr.net/npm/bootstrap-icons@1.4.1/font/bootstrap-icons.css\" rel=\"stylesheet\"/>\n",
       "</head>\n",
       "<body class=\"mx-auto max-w-screen-lg pb-32\">\n",
       "<h1 class=\"my-5 text-4xl text-center\">News!</h1>\n",
       "<div class=\"my-5 text-red-800 px-5 py-3 bg-red-100 font-bold\">\n",
       "<p>\n",
       "<i class=\"bi bi-exclamation-circle text-xl\"></i>\n",
       "        All data on this page is strictly for demonstration purposes and fake.\n",
       "    </p>\n",
       "</div>\n",
       "<div class=\"grid gap-y-12\">\n",
       "<div class=\"grid grid-cols-4 gap-x-4 border rounded pr-3 bg-green-50 hover:shadow-lg transition duration-500\">\n",
       "<img src=\"/static/placeholder.png\"/>\n",
       "<div class=\"col-span-3 space-y-3 py-3\">\n",
       "<h2 class=\"text-2xl text-green-900\">visit thousand important</h2>\n",
       "<div class=\"grid grid-cols-2 italic\">\n",
       "<p> 1978-03-26 </p>\n",
       "<p class=\"text-right\">By Ann Pena </p>\n",
       "</div>\n",
       "<p>Majority same public small wear only record. Chance send mind place theory out vote which. Gun billion wind member note draw.\n",
       "A fill whether remain enter. Now anything each himself well find career. Case carry garden project develop.</p>\n",
       "</div>\n",
       "</div>\n",
       "<div class=\"grid grid-cols-4 gap-x-4 border rounded pr-3 bg-green-50 hover:shadow-lg transition duration-500\">\n",
       "<img src=\"/static/placeholder.png\"/>\n",
       "<div class=\"col-span-3 space-y-3 py-3\">\n",
       "<h2 class=\"text-2xl text-green-900\">writer owner into</h2>\n",
       "<div class=\"grid grid-cols-2 italic\">\n",
       "<p> 2007-06-15 </p>\n",
       "<p class=\"text-right\">By Patrick Harmon </p>\n",
       "</div>\n",
       "<p>Doctor talk establish collection. Born body myself suddenly. Give another modern commercial growth field cause.\n",
       "Development detail manager. Fall light media old assume strong professor.</p>\n",
       "</div>\n",
       "</div>\n",
       "<div class=\"grid grid-cols-4 gap-x-4 border rounded pr-3 bg-green-50 hover:shadow-lg transition duration-500\">\n",
       "<img src=\"/static/placeholder.png\"/>\n",
       "<div class=\"col-span-3 space-y-3 py-3\">\n",
       "<h2 class=\"text-2xl text-green-900\">try music according</h2>\n",
       "<div class=\"grid grid-cols-2 italic\">\n",
       "<p> 1988-01-09 </p>\n",
       "<p class=\"text-right\">By Michael Johnson </p>\n",
       "</div>\n",
       "<p>Understand either firm federal yourself entire product. Rather difference find ever woman eye almost. Inside against small kitchen whose including.\n",
       "Cost herself civil guy interesting dog cause. Identify region foreign table PM vote.</p>\n",
       "</div>\n",
       "</div>\n",
       "<div class=\"grid grid-cols-4 gap-x-4 border rounded pr-3 bg-green-50 hover:shadow-lg transition duration-500\">\n",
       "<img src=\"/static/placeholder.png\"/>\n",
       "<div class=\"col-span-3 space-y-3 py-3\">\n",
       "<h2 class=\"text-2xl text-green-900\">standard usually manager</h2>\n",
       "<div class=\"grid grid-cols-2 italic\">\n",
       "<p> 1999-12-19 </p>\n",
       "<p class=\"text-right\">By Willie Gonzalez </p>\n",
       "</div>\n",
       "<p>Environment lead during specific great himself. Couple inside fact five manage rule management.\n",
       "Western experience international color south. Economic area wide. West entire candidate during water.</p>\n",
       "</div>\n",
       "</div>\n",
       "<div class=\"grid grid-cols-4 gap-x-4 border rounded pr-3 bg-green-50 hover:shadow-lg transition duration-500\">\n",
       "<img src=\"/static/placeholder.png\"/>\n",
       "<div class=\"col-span-3 space-y-3 py-3\">\n",
       "<h2 class=\"text-2xl text-green-900\">significant figure crime</h2>\n",
       "<div class=\"grid grid-cols-2 italic\">\n",
       "<p> 2021-09-29 </p>\n",
       "<p class=\"text-right\">By Jennifer Hansen </p>\n",
       "</div>\n",
       "<p>Lot record see billion road first. Wonder language instead learn what.\n",
       "Success quickly minute. Newspaper very fast. Organization manager energy card.</p>\n",
       "</div>\n",
       "</div>\n",
       "<div class=\"grid grid-cols-4 gap-x-4 border rounded pr-3 bg-green-50 hover:shadow-lg transition duration-500\">\n",
       "<img src=\"/static/placeholder.png\"/>\n",
       "<div class=\"col-span-3 space-y-3 py-3\">\n",
       "<h2 class=\"text-2xl text-green-900\">spring often address</h2>\n",
       "<div class=\"grid grid-cols-2 italic\">\n",
       "<p> 1989-01-28 </p>\n",
       "<p class=\"text-right\">By Lori Nguyen </p>\n",
       "</div>\n",
       "<p>Court she early speech big against. Situation often finally affect. Half just value too pull but care interesting.\n",
       "Need sure minute artist kid. Other hard national although challenge drug. Forget my after partner.</p>\n",
       "</div>\n",
       "</div>\n",
       "<div class=\"grid grid-cols-4 gap-x-4 border rounded pr-3 bg-green-50 hover:shadow-lg transition duration-500\">\n",
       "<img src=\"/static/placeholder.png\"/>\n",
       "<div class=\"col-span-3 space-y-3 py-3\">\n",
       "<h2 class=\"text-2xl text-green-900\">executive at point</h2>\n",
       "<div class=\"grid grid-cols-2 italic\">\n",
       "<p> 2016-10-16 </p>\n",
       "<p class=\"text-right\">By Barbara Chambers </p>\n",
       "</div>\n",
       "<p>Radio take understand eight.\n",
       "Defense need yourself value themselves boy person. Try fine Congress.</p>\n",
       "</div>\n",
       "</div>\n",
       "<div class=\"grid grid-cols-4 gap-x-4 border rounded pr-3 bg-green-50 hover:shadow-lg transition duration-500\">\n",
       "<img src=\"/static/placeholder.png\"/>\n",
       "<div class=\"col-span-3 space-y-3 py-3\">\n",
       "<h2 class=\"text-2xl text-green-900\">quality professional world</h2>\n",
       "<div class=\"grid grid-cols-2 italic\">\n",
       "<p> 1977-11-30 </p>\n",
       "<p class=\"text-right\">By Amber Johnson </p>\n",
       "</div>\n",
       "<p>Trial food guess fast soon worry dark. Low listen range decide board record article pick. History science mean officer or sell.\n",
       "Friend indicate job leg or also success. Nation picture tree sure. None those listen save once.</p>\n",
       "</div>\n",
       "</div>\n",
       "<div class=\"grid grid-cols-4 gap-x-4 border rounded pr-3 bg-green-50 hover:shadow-lg transition duration-500\">\n",
       "<img src=\"/static/placeholder.png\"/>\n",
       "<div class=\"col-span-3 space-y-3 py-3\">\n",
       "<h2 class=\"text-2xl text-green-900\">understand debate together</h2>\n",
       "<div class=\"grid grid-cols-2 italic\">\n",
       "<p> 1973-07-08 </p>\n",
       "<p class=\"text-right\">By Alejandro Davis </p>\n",
       "</div>\n",
       "<p>Add last rather me. Rather window design near chair short pay.\n",
       "We watch course during even such news easy.</p>\n",
       "</div>\n",
       "</div>\n",
       "<div class=\"grid grid-cols-4 gap-x-4 border rounded pr-3 bg-green-50 hover:shadow-lg transition duration-500\">\n",
       "<img src=\"/static/placeholder.png\"/>\n",
       "<div class=\"col-span-3 space-y-3 py-3\">\n",
       "<h2 class=\"text-2xl text-green-900\">authority two thus</h2>\n",
       "<div class=\"grid grid-cols-2 italic\">\n",
       "<p> 1998-04-10 </p>\n",
       "<p class=\"text-right\">By Amanda Lawrence </p>\n",
       "</div>\n",
       "<p>Recognize million sort pretty newspaper listen look form. For whole east after. Energy claim power.\n",
       "Involve particular walk value put. Front require word. Front or character enough yet man prove.</p>\n",
       "</div>\n",
       "</div>\n",
       "<div class=\"grid grid-cols-4 gap-x-4 border rounded pr-3 bg-green-50 hover:shadow-lg transition duration-500\">\n",
       "<img src=\"/static/placeholder.png\"/>\n",
       "<div class=\"col-span-3 space-y-3 py-3\">\n",
       "<h2 class=\"text-2xl text-green-900\">author toward history</h2>\n",
       "<div class=\"grid grid-cols-2 italic\">\n",
       "<p> 2013-06-05 </p>\n",
       "<p class=\"text-right\">By Anthony Martinez </p>\n",
       "</div>\n",
       "<p>Few cut light fund right since open buy. Design agree again pull share.\n",
       "Car such family evidence. In capital south outside.</p>\n",
       "</div>\n",
       "</div>\n",
       "<div class=\"grid grid-cols-4 gap-x-4 border rounded pr-3 bg-green-50 hover:shadow-lg transition duration-500\">\n",
       "<img src=\"/static/placeholder.png\"/>\n",
       "<div class=\"col-span-3 space-y-3 py-3\">\n",
       "<h2 class=\"text-2xl text-green-900\">protect ten list</h2>\n",
       "<div class=\"grid grid-cols-2 italic\">\n",
       "<p> 1991-12-09 </p>\n",
       "<p class=\"text-right\">By Rebecca Wallace </p>\n",
       "</div>\n",
       "<p>Parent art happen enjoy provide. Including sell if reflect nation doctor course paper.\n",
       "Pull central stay thing authority. Mean training want operation green hard of hard. Couple concern enjoy movement.</p>\n",
       "</div>\n",
       "</div>\n",
       "</div>\n",
       "</body>\n",
       "</html>"
      ]
     },
     "execution_count": 59,
     "metadata": {},
     "output_type": "execute_result"
    }
   ],
   "source": [
    "soup2 = BeautifulSoup(get(url2).content, 'html.parser')\n",
    "soup2"
   ]
  },
  {
   "cell_type": "code",
   "execution_count": 61,
   "id": "c9f84494-1344-47bf-a05e-d3ec9e945d46",
   "metadata": {},
   "outputs": [
    {
     "data": {
      "text/plain": [
       "38"
      ]
     },
     "execution_count": 61,
     "metadata": {},
     "output_type": "execute_result"
    }
   ],
   "source": [
    "len(soup2.find_all('div'))"
   ]
  },
  {
   "cell_type": "code",
   "execution_count": 69,
   "id": "f8e3efe3-7806-4f59-a226-813749d3c317",
   "metadata": {},
   "outputs": [],
   "source": [
    "# soup.find_all('div')"
   ]
  },
  {
   "cell_type": "code",
   "execution_count": 70,
   "id": "a9e8bdd8",
   "metadata": {},
   "outputs": [],
   "source": [
    "# [thing.text.strip() for thing in soup2.select('div')]"
   ]
  },
  {
   "cell_type": "code",
   "execution_count": 74,
   "id": "de3ac60c-fc42-4905-9760-fa361c764280",
   "metadata": {},
   "outputs": [
    {
     "data": {
      "text/plain": [
       "[<div class=\"grid grid-cols-4 gap-x-4 border rounded pr-3 bg-green-50 hover:shadow-lg transition duration-500\">\n",
       " <img src=\"/static/placeholder.png\"/>\n",
       " <div class=\"col-span-3 space-y-3 py-3\">\n",
       " <h2 class=\"text-2xl text-green-900\">visit thousand important</h2>\n",
       " <div class=\"grid grid-cols-2 italic\">\n",
       " <p> 1978-03-26 </p>\n",
       " <p class=\"text-right\">By Ann Pena </p>\n",
       " </div>\n",
       " <p>Majority same public small wear only record. Chance send mind place theory out vote which. Gun billion wind member note draw.\n",
       " A fill whether remain enter. Now anything each himself well find career. Case carry garden project develop.</p>\n",
       " </div>\n",
       " </div>,\n",
       " <div class=\"grid grid-cols-4 gap-x-4 border rounded pr-3 bg-green-50 hover:shadow-lg transition duration-500\">\n",
       " <img src=\"/static/placeholder.png\"/>\n",
       " <div class=\"col-span-3 space-y-3 py-3\">\n",
       " <h2 class=\"text-2xl text-green-900\">writer owner into</h2>\n",
       " <div class=\"grid grid-cols-2 italic\">\n",
       " <p> 2007-06-15 </p>\n",
       " <p class=\"text-right\">By Patrick Harmon </p>\n",
       " </div>\n",
       " <p>Doctor talk establish collection. Born body myself suddenly. Give another modern commercial growth field cause.\n",
       " Development detail manager. Fall light media old assume strong professor.</p>\n",
       " </div>\n",
       " </div>,\n",
       " <div class=\"grid grid-cols-4 gap-x-4 border rounded pr-3 bg-green-50 hover:shadow-lg transition duration-500\">\n",
       " <img src=\"/static/placeholder.png\"/>\n",
       " <div class=\"col-span-3 space-y-3 py-3\">\n",
       " <h2 class=\"text-2xl text-green-900\">try music according</h2>\n",
       " <div class=\"grid grid-cols-2 italic\">\n",
       " <p> 1988-01-09 </p>\n",
       " <p class=\"text-right\">By Michael Johnson </p>\n",
       " </div>\n",
       " <p>Understand either firm federal yourself entire product. Rather difference find ever woman eye almost. Inside against small kitchen whose including.\n",
       " Cost herself civil guy interesting dog cause. Identify region foreign table PM vote.</p>\n",
       " </div>\n",
       " </div>,\n",
       " <div class=\"grid grid-cols-4 gap-x-4 border rounded pr-3 bg-green-50 hover:shadow-lg transition duration-500\">\n",
       " <img src=\"/static/placeholder.png\"/>\n",
       " <div class=\"col-span-3 space-y-3 py-3\">\n",
       " <h2 class=\"text-2xl text-green-900\">standard usually manager</h2>\n",
       " <div class=\"grid grid-cols-2 italic\">\n",
       " <p> 1999-12-19 </p>\n",
       " <p class=\"text-right\">By Willie Gonzalez </p>\n",
       " </div>\n",
       " <p>Environment lead during specific great himself. Couple inside fact five manage rule management.\n",
       " Western experience international color south. Economic area wide. West entire candidate during water.</p>\n",
       " </div>\n",
       " </div>,\n",
       " <div class=\"grid grid-cols-4 gap-x-4 border rounded pr-3 bg-green-50 hover:shadow-lg transition duration-500\">\n",
       " <img src=\"/static/placeholder.png\"/>\n",
       " <div class=\"col-span-3 space-y-3 py-3\">\n",
       " <h2 class=\"text-2xl text-green-900\">significant figure crime</h2>\n",
       " <div class=\"grid grid-cols-2 italic\">\n",
       " <p> 2021-09-29 </p>\n",
       " <p class=\"text-right\">By Jennifer Hansen </p>\n",
       " </div>\n",
       " <p>Lot record see billion road first. Wonder language instead learn what.\n",
       " Success quickly minute. Newspaper very fast. Organization manager energy card.</p>\n",
       " </div>\n",
       " </div>,\n",
       " <div class=\"grid grid-cols-4 gap-x-4 border rounded pr-3 bg-green-50 hover:shadow-lg transition duration-500\">\n",
       " <img src=\"/static/placeholder.png\"/>\n",
       " <div class=\"col-span-3 space-y-3 py-3\">\n",
       " <h2 class=\"text-2xl text-green-900\">spring often address</h2>\n",
       " <div class=\"grid grid-cols-2 italic\">\n",
       " <p> 1989-01-28 </p>\n",
       " <p class=\"text-right\">By Lori Nguyen </p>\n",
       " </div>\n",
       " <p>Court she early speech big against. Situation often finally affect. Half just value too pull but care interesting.\n",
       " Need sure minute artist kid. Other hard national although challenge drug. Forget my after partner.</p>\n",
       " </div>\n",
       " </div>,\n",
       " <div class=\"grid grid-cols-4 gap-x-4 border rounded pr-3 bg-green-50 hover:shadow-lg transition duration-500\">\n",
       " <img src=\"/static/placeholder.png\"/>\n",
       " <div class=\"col-span-3 space-y-3 py-3\">\n",
       " <h2 class=\"text-2xl text-green-900\">executive at point</h2>\n",
       " <div class=\"grid grid-cols-2 italic\">\n",
       " <p> 2016-10-16 </p>\n",
       " <p class=\"text-right\">By Barbara Chambers </p>\n",
       " </div>\n",
       " <p>Radio take understand eight.\n",
       " Defense need yourself value themselves boy person. Try fine Congress.</p>\n",
       " </div>\n",
       " </div>,\n",
       " <div class=\"grid grid-cols-4 gap-x-4 border rounded pr-3 bg-green-50 hover:shadow-lg transition duration-500\">\n",
       " <img src=\"/static/placeholder.png\"/>\n",
       " <div class=\"col-span-3 space-y-3 py-3\">\n",
       " <h2 class=\"text-2xl text-green-900\">quality professional world</h2>\n",
       " <div class=\"grid grid-cols-2 italic\">\n",
       " <p> 1977-11-30 </p>\n",
       " <p class=\"text-right\">By Amber Johnson </p>\n",
       " </div>\n",
       " <p>Trial food guess fast soon worry dark. Low listen range decide board record article pick. History science mean officer or sell.\n",
       " Friend indicate job leg or also success. Nation picture tree sure. None those listen save once.</p>\n",
       " </div>\n",
       " </div>,\n",
       " <div class=\"grid grid-cols-4 gap-x-4 border rounded pr-3 bg-green-50 hover:shadow-lg transition duration-500\">\n",
       " <img src=\"/static/placeholder.png\"/>\n",
       " <div class=\"col-span-3 space-y-3 py-3\">\n",
       " <h2 class=\"text-2xl text-green-900\">understand debate together</h2>\n",
       " <div class=\"grid grid-cols-2 italic\">\n",
       " <p> 1973-07-08 </p>\n",
       " <p class=\"text-right\">By Alejandro Davis </p>\n",
       " </div>\n",
       " <p>Add last rather me. Rather window design near chair short pay.\n",
       " We watch course during even such news easy.</p>\n",
       " </div>\n",
       " </div>,\n",
       " <div class=\"grid grid-cols-4 gap-x-4 border rounded pr-3 bg-green-50 hover:shadow-lg transition duration-500\">\n",
       " <img src=\"/static/placeholder.png\"/>\n",
       " <div class=\"col-span-3 space-y-3 py-3\">\n",
       " <h2 class=\"text-2xl text-green-900\">authority two thus</h2>\n",
       " <div class=\"grid grid-cols-2 italic\">\n",
       " <p> 1998-04-10 </p>\n",
       " <p class=\"text-right\">By Amanda Lawrence </p>\n",
       " </div>\n",
       " <p>Recognize million sort pretty newspaper listen look form. For whole east after. Energy claim power.\n",
       " Involve particular walk value put. Front require word. Front or character enough yet man prove.</p>\n",
       " </div>\n",
       " </div>,\n",
       " <div class=\"grid grid-cols-4 gap-x-4 border rounded pr-3 bg-green-50 hover:shadow-lg transition duration-500\">\n",
       " <img src=\"/static/placeholder.png\"/>\n",
       " <div class=\"col-span-3 space-y-3 py-3\">\n",
       " <h2 class=\"text-2xl text-green-900\">author toward history</h2>\n",
       " <div class=\"grid grid-cols-2 italic\">\n",
       " <p> 2013-06-05 </p>\n",
       " <p class=\"text-right\">By Anthony Martinez </p>\n",
       " </div>\n",
       " <p>Few cut light fund right since open buy. Design agree again pull share.\n",
       " Car such family evidence. In capital south outside.</p>\n",
       " </div>\n",
       " </div>,\n",
       " <div class=\"grid grid-cols-4 gap-x-4 border rounded pr-3 bg-green-50 hover:shadow-lg transition duration-500\">\n",
       " <img src=\"/static/placeholder.png\"/>\n",
       " <div class=\"col-span-3 space-y-3 py-3\">\n",
       " <h2 class=\"text-2xl text-green-900\">protect ten list</h2>\n",
       " <div class=\"grid grid-cols-2 italic\">\n",
       " <p> 1991-12-09 </p>\n",
       " <p class=\"text-right\">By Rebecca Wallace </p>\n",
       " </div>\n",
       " <p>Parent art happen enjoy provide. Including sell if reflect nation doctor course paper.\n",
       " Pull central stay thing authority. Mean training want operation green hard of hard. Couple concern enjoy movement.</p>\n",
       " </div>\n",
       " </div>]"
      ]
     },
     "execution_count": 74,
     "metadata": {},
     "output_type": "execute_result"
    }
   ],
   "source": [
    "soup2.select('div.grid.grid-cols-4')"
   ]
  },
  {
   "cell_type": "code",
   "execution_count": 76,
   "id": "33b58f1b-4bca-42d7-9ede-86c8c2e7db43",
   "metadata": {},
   "outputs": [],
   "source": [
    "articles = soup2.select('div.grid.grid-cols-4')"
   ]
  },
  {
   "cell_type": "code",
   "execution_count": 94,
   "id": "f047f1e1-eecf-4b6f-968d-de9a67a028cd",
   "metadata": {},
   "outputs": [
    {
     "data": {
      "text/plain": [
       "[]"
      ]
     },
     "execution_count": 94,
     "metadata": {},
     "output_type": "execute_result"
    }
   ],
   "source": [
    "articles[0].h2.find_all('p')"
   ]
  },
  {
   "cell_type": "code",
   "execution_count": 96,
   "id": "24782118",
   "metadata": {},
   "outputs": [],
   "source": [
    "# [thing.text.strip() for thing in articles]"
   ]
  },
  {
   "cell_type": "code",
   "execution_count": 98,
   "id": "95421cf0-3da4-46f8-b00a-fe2c4e8b822f",
   "metadata": {},
   "outputs": [],
   "source": [
    "def get_article_content(art):\n",
    "    output = {}\n",
    "    output['headline'] = art.find('h2').text.strip()\n",
    "    output['date'], output['author'], output['content'] = [thing.text.strip() for thing in art.find_all('p')]\n",
    "    return output"
   ]
  },
  {
   "cell_type": "code",
   "execution_count": 103,
   "id": "3800259e",
   "metadata": {},
   "outputs": [
    {
     "data": {
      "text/plain": [
       "{'headline': 'visit thousand important',\n",
       " 'date': '1978-03-26',\n",
       " 'author': 'By Ann Pena',\n",
       " 'content': 'Majority same public small wear only record. Chance send mind place theory out vote which. Gun billion wind member note draw.\\nA fill whether remain enter. Now anything each himself well find career. Case carry garden project develop.'}"
      ]
     },
     "execution_count": 103,
     "metadata": {},
     "output_type": "execute_result"
    }
   ],
   "source": [
    "get_article_content(articles[0])"
   ]
  },
  {
   "cell_type": "code",
   "execution_count": 109,
   "id": "717508a1",
   "metadata": {},
   "outputs": [],
   "source": [
    "def acquire_articles(url):\n",
    "    soup = BeautifulSoup(get(url).content, 'html.parser')\n",
    "    arts = soup.select('div.grid.grid-cols-4')\n",
    "    final = [get_article_content(art) for art in arts]\n",
    "    return pd.DataFrame(final)"
   ]
  },
  {
   "cell_type": "code",
   "execution_count": 110,
   "id": "1024062b",
   "metadata": {},
   "outputs": [
    {
     "data": {
      "text/html": [
       "<div>\n",
       "<style scoped>\n",
       "    .dataframe tbody tr th:only-of-type {\n",
       "        vertical-align: middle;\n",
       "    }\n",
       "\n",
       "    .dataframe tbody tr th {\n",
       "        vertical-align: top;\n",
       "    }\n",
       "\n",
       "    .dataframe thead th {\n",
       "        text-align: right;\n",
       "    }\n",
       "</style>\n",
       "<table border=\"1\" class=\"dataframe\">\n",
       "  <thead>\n",
       "    <tr style=\"text-align: right;\">\n",
       "      <th></th>\n",
       "      <th>headline</th>\n",
       "      <th>date</th>\n",
       "      <th>author</th>\n",
       "      <th>content</th>\n",
       "    </tr>\n",
       "  </thead>\n",
       "  <tbody>\n",
       "    <tr>\n",
       "      <th>0</th>\n",
       "      <td>test the your</td>\n",
       "      <td>1970-02-25</td>\n",
       "      <td>By Lorraine Mccullough</td>\n",
       "      <td>Later meeting management save responsibility r...</td>\n",
       "    </tr>\n",
       "    <tr>\n",
       "      <th>1</th>\n",
       "      <td>work effect eat</td>\n",
       "      <td>1976-07-07</td>\n",
       "      <td>By Mary Miller</td>\n",
       "      <td>Move ability specific model rest blood have cr...</td>\n",
       "    </tr>\n",
       "    <tr>\n",
       "      <th>2</th>\n",
       "      <td>under his member</td>\n",
       "      <td>1978-04-15</td>\n",
       "      <td>By Richard Kaufman</td>\n",
       "      <td>Watch kitchen on truth.\\nThrow give song them....</td>\n",
       "    </tr>\n",
       "    <tr>\n",
       "      <th>3</th>\n",
       "      <td>fast also design</td>\n",
       "      <td>2021-02-02</td>\n",
       "      <td>By Allison Erickson</td>\n",
       "      <td>Ask us firm action. Memory message space meet ...</td>\n",
       "    </tr>\n",
       "    <tr>\n",
       "      <th>4</th>\n",
       "      <td>ground stuff bit</td>\n",
       "      <td>1988-11-13</td>\n",
       "      <td>By Blake Porter</td>\n",
       "      <td>Store part just million build owner church. St...</td>\n",
       "    </tr>\n",
       "    <tr>\n",
       "      <th>5</th>\n",
       "      <td>board seek action</td>\n",
       "      <td>1999-12-06</td>\n",
       "      <td>By Gina Buchanan</td>\n",
       "      <td>Discussion program career easy national house....</td>\n",
       "    </tr>\n",
       "    <tr>\n",
       "      <th>6</th>\n",
       "      <td>spring player deal</td>\n",
       "      <td>1976-07-18</td>\n",
       "      <td>By Kelly Ross</td>\n",
       "      <td>Our threat lose nor enough yeah month. Involve...</td>\n",
       "    </tr>\n",
       "    <tr>\n",
       "      <th>7</th>\n",
       "      <td>range party staff</td>\n",
       "      <td>1989-09-13</td>\n",
       "      <td>By David Bates</td>\n",
       "      <td>Her tend most season fill notice. American tel...</td>\n",
       "    </tr>\n",
       "    <tr>\n",
       "      <th>8</th>\n",
       "      <td>often phone teacher</td>\n",
       "      <td>2004-06-29</td>\n",
       "      <td>By Alison Thomas</td>\n",
       "      <td>Sign plan age affect. Party mother cost concer...</td>\n",
       "    </tr>\n",
       "    <tr>\n",
       "      <th>9</th>\n",
       "      <td>read call bed</td>\n",
       "      <td>2000-05-15</td>\n",
       "      <td>By Charles Wilson</td>\n",
       "      <td>Piece house charge change PM stuff decide beyo...</td>\n",
       "    </tr>\n",
       "    <tr>\n",
       "      <th>10</th>\n",
       "      <td>choice box church</td>\n",
       "      <td>1992-04-19</td>\n",
       "      <td>By Ann Higgins DDS</td>\n",
       "      <td>Particularly drug south fine message. Operatio...</td>\n",
       "    </tr>\n",
       "    <tr>\n",
       "      <th>11</th>\n",
       "      <td>state resource water</td>\n",
       "      <td>2006-08-08</td>\n",
       "      <td>By Thomas Ball</td>\n",
       "      <td>Avoid arrive hot go certain. Either fine paren...</td>\n",
       "    </tr>\n",
       "  </tbody>\n",
       "</table>\n",
       "</div>"
      ],
      "text/plain": [
       "                headline        date                  author  \\\n",
       "0          test the your  1970-02-25  By Lorraine Mccullough   \n",
       "1        work effect eat  1976-07-07          By Mary Miller   \n",
       "2       under his member  1978-04-15      By Richard Kaufman   \n",
       "3       fast also design  2021-02-02     By Allison Erickson   \n",
       "4       ground stuff bit  1988-11-13         By Blake Porter   \n",
       "5      board seek action  1999-12-06        By Gina Buchanan   \n",
       "6     spring player deal  1976-07-18           By Kelly Ross   \n",
       "7      range party staff  1989-09-13          By David Bates   \n",
       "8    often phone teacher  2004-06-29        By Alison Thomas   \n",
       "9          read call bed  2000-05-15       By Charles Wilson   \n",
       "10     choice box church  1992-04-19      By Ann Higgins DDS   \n",
       "11  state resource water  2006-08-08          By Thomas Ball   \n",
       "\n",
       "                                              content  \n",
       "0   Later meeting management save responsibility r...  \n",
       "1   Move ability specific model rest blood have cr...  \n",
       "2   Watch kitchen on truth.\\nThrow give song them....  \n",
       "3   Ask us firm action. Memory message space meet ...  \n",
       "4   Store part just million build owner church. St...  \n",
       "5   Discussion program career easy national house....  \n",
       "6   Our threat lose nor enough yeah month. Involve...  \n",
       "7   Her tend most season fill notice. American tel...  \n",
       "8   Sign plan age affect. Party mother cost concer...  \n",
       "9   Piece house charge change PM stuff decide beyo...  \n",
       "10  Particularly drug south fine message. Operatio...  \n",
       "11  Avoid arrive hot go certain. Either fine paren...  "
      ]
     },
     "execution_count": 110,
     "metadata": {},
     "output_type": "execute_result"
    }
   ],
   "source": [
    "acquire_articles(url2)"
   ]
  },
  {
   "cell_type": "code",
   "execution_count": null,
   "id": "cf9356ab-8577-49fd-a8de-33955d918dd2",
   "metadata": {},
   "outputs": [],
   "source": []
  }
 ],
 "metadata": {
  "kernelspec": {
   "display_name": "Python 3 (ipykernel)",
   "language": "python",
   "name": "python3"
  },
  "language_info": {
   "codemirror_mode": {
    "name": "ipython",
    "version": 3
   },
   "file_extension": ".py",
   "mimetype": "text/x-python",
   "name": "python",
   "nbconvert_exporter": "python",
   "pygments_lexer": "ipython3",
   "version": "3.9.12"
  }
 },
 "nbformat": 4,
 "nbformat_minor": 5
}
