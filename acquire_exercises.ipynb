{
 "cells": [
  {
   "cell_type": "code",
   "execution_count": 1,
   "id": "9dba31df-f0e2-4034-979d-7b5d5df3d023",
   "metadata": {},
   "outputs": [],
   "source": [
    "import pandas as pd\n",
    "import requests\n",
    "from bs4 import BeautifulSoup"
   ]
  },
  {
   "cell_type": "code",
   "execution_count": 2,
   "id": "34b3b076-c2ae-42bc-bbdd-3876dba7fe05",
   "metadata": {},
   "outputs": [],
   "source": [
    "url = 'https://codeup.com/blog/'"
   ]
  },
  {
   "cell_type": "code",
   "execution_count": 3,
   "id": "8fe93d81-4ed2-4150-916c-dd9d5f2b6bed",
   "metadata": {},
   "outputs": [],
   "source": [
    "headers = {'User-Agent': 'Codeup Data Science'}"
   ]
  },
  {
   "cell_type": "code",
   "execution_count": 4,
   "id": "d6d9241e-bde6-4bc7-9713-aa506fb11d8c",
   "metadata": {},
   "outputs": [
    {
     "data": {
      "text/plain": [
       "<Response [200]>"
      ]
     },
     "execution_count": 4,
     "metadata": {},
     "output_type": "execute_result"
    }
   ],
   "source": [
    "requests.get(url, headers=headers)"
   ]
  },
  {
   "cell_type": "code",
   "execution_count": 5,
   "id": "d430ef9c-e035-48b8-a19a-32ea5ed420bb",
   "metadata": {},
   "outputs": [],
   "source": [
    "soup = BeautifulSoup(requests.get(url, headers=headers).content, 'html.parser')"
   ]
  },
  {
   "cell_type": "code",
   "execution_count": 6,
   "id": "319d5d57-4b2c-45de-9621-d7be84ffcf13",
   "metadata": {},
   "outputs": [
    {
     "data": {
      "text/plain": [
       "[<a class=\"more-link\" href=\"https://codeup.com/codeup-news/dei-report/\">read more</a>,\n",
       " <a class=\"more-link\" href=\"https://codeup.com/codeup-news/diversity-and-inclusion-award/\">read more</a>,\n",
       " <a class=\"more-link\" href=\"https://codeup.com/featured/financing-career-transition/\">read more</a>,\n",
       " <a class=\"more-link\" href=\"https://codeup.com/tips-for-prospective-students/tips-for-women/\">read more</a>,\n",
       " <a class=\"more-link\" href=\"https://codeup.com/cloud-administration/cloud-computing-and-aws/\">read more</a>,\n",
       " <a class=\"more-link\" href=\"https://codeup.com/codeup-news/c-suite-award-stephen-noteboom/\">read more</a>]"
      ]
     },
     "execution_count": 6,
     "metadata": {},
     "output_type": "execute_result"
    }
   ],
   "source": [
    "soup.find_all('a', class_='more-link')"
   ]
  },
  {
   "cell_type": "code",
   "execution_count": 7,
   "id": "dce02ff4-9852-4814-a976-594c4be08948",
   "metadata": {},
   "outputs": [
    {
     "data": {
      "text/plain": [
       "'https://codeup.com/codeup-news/dei-report/'"
      ]
     },
     "execution_count": 7,
     "metadata": {},
     "output_type": "execute_result"
    }
   ],
   "source": [
    "soup.select('a.more-link')[0]['href']"
   ]
  },
  {
   "cell_type": "code",
   "execution_count": 8,
   "id": "057e77f0-8e7a-4585-b740-68084b763e65",
   "metadata": {},
   "outputs": [],
   "source": [
    "blog_posts = [link['href'] for link in soup.select('a.more-link')]"
   ]
  },
  {
   "cell_type": "code",
   "execution_count": 9,
   "id": "7790b918-c58b-4b7e-b9c7-5d44870ab128",
   "metadata": {},
   "outputs": [],
   "source": [
    "def get_blogs_urls(url, header = {'User-Agent': 'Codeup Data Science'}):\n",
    "    soup = BeautifulSoup(requests.get(url, headers=header).content, 'html.parser')\n",
    "    return [link['href'] for link in soup.select('a.more-link')]"
   ]
  },
  {
   "cell_type": "code",
   "execution_count": 10,
   "id": "66313a09-ce7c-4102-b943-4b16f855b28f",
   "metadata": {},
   "outputs": [
    {
     "data": {
      "text/plain": [
       "['https://codeup.com/codeup-news/dei-report/',\n",
       " 'https://codeup.com/codeup-news/diversity-and-inclusion-award/',\n",
       " 'https://codeup.com/featured/financing-career-transition/',\n",
       " 'https://codeup.com/tips-for-prospective-students/tips-for-women/',\n",
       " 'https://codeup.com/cloud-administration/cloud-computing-and-aws/',\n",
       " 'https://codeup.com/codeup-news/c-suite-award-stephen-noteboom/']"
      ]
     },
     "execution_count": 10,
     "metadata": {},
     "output_type": "execute_result"
    }
   ],
   "source": [
    "get_blogs_urls(url)"
   ]
  },
  {
   "cell_type": "code",
   "execution_count": 11,
   "id": "2321ae94-e332-424d-a7b3-44e73c30609a",
   "metadata": {},
   "outputs": [],
   "source": [
    "article_soup = BeautifulSoup(requests.get('https://codeup.com/codeup-news/dei-report/', headers=headers).content)"
   ]
  },
  {
   "cell_type": "code",
   "execution_count": 12,
   "id": "42f4de03-df27-4697-bf5f-22b832acb194",
   "metadata": {},
   "outputs": [
    {
     "data": {
      "text/plain": [
       "'Diversity Equity and Inclusion Report'"
      ]
     },
     "execution_count": 12,
     "metadata": {},
     "output_type": "execute_result"
    }
   ],
   "source": [
    "article_soup.select_one('h1.entry-title').text"
   ]
  },
  {
   "cell_type": "code",
   "execution_count": 13,
   "id": "b40b4107-ef70-4193-acf7-f7d183972ea8",
   "metadata": {},
   "outputs": [
    {
     "data": {
      "text/plain": [
       "'Codeup is excited to launch our first Diversity Equity, and Inclusion (DEI) report! In over eight years as an organization, we’ve implemented policies and grown our DEI efforts. We are extremely proud of the progress we’ve made as a staff and Codeup community, and we recognize there is more to learn. This report captures some of the ways that we’ve lived our value of Cultivating Inclusive Growth, and how we will continue doing so as we look to the future.\\nWe wanted to shine a light on the demographics of our students and staff, and in particular how that compares to the tech industry as a whole. How we collect, organize, and share employee demographic data is informed by standards set by the Equal Employment Opportunity Commission (EEOC).\\nWe are proud to celebrate how we’ve grown and are motivated and committed to do more and be better. To view the report visit the link here, or download it below.'"
      ]
     },
     "execution_count": 13,
     "metadata": {},
     "output_type": "execute_result"
    }
   ],
   "source": [
    "article_soup.select_one('div.entry-content').text.strip()"
   ]
  },
  {
   "cell_type": "code",
   "execution_count": 14,
   "id": "224ea4d2-22f4-4e41-be7b-befc2423aad5",
   "metadata": {},
   "outputs": [],
   "source": [
    "def get_blog_content(base_url):\n",
    "    urls = get_blogs_urls(base_url)\n",
    "    output = []\n",
    "    for blog in urls:\n",
    "        article_soup = BeautifulSoup(requests.get(blog, headers=headers).content)\n",
    "        blog_output = {'title': article_soup.select_one('h1.entry-title').text,\n",
    "        'content': article_soup.select_one('div.entry-content').text.strip()}\n",
    "        output.append(blog_output)\n",
    "    return pd.DataFrame(output)"
   ]
  },
  {
   "cell_type": "code",
   "execution_count": 15,
   "id": "b071407e-a7ab-4536-a0d1-cf7e5ca36e7a",
   "metadata": {},
   "outputs": [
    {
     "data": {
      "text/html": [
       "<div>\n",
       "<style scoped>\n",
       "    .dataframe tbody tr th:only-of-type {\n",
       "        vertical-align: middle;\n",
       "    }\n",
       "\n",
       "    .dataframe tbody tr th {\n",
       "        vertical-align: top;\n",
       "    }\n",
       "\n",
       "    .dataframe thead th {\n",
       "        text-align: right;\n",
       "    }\n",
       "</style>\n",
       "<table border=\"1\" class=\"dataframe\">\n",
       "  <thead>\n",
       "    <tr style=\"text-align: right;\">\n",
       "      <th></th>\n",
       "      <th>title</th>\n",
       "      <th>content</th>\n",
       "    </tr>\n",
       "  </thead>\n",
       "  <tbody>\n",
       "    <tr>\n",
       "      <th>0</th>\n",
       "      <td>Diversity Equity and Inclusion Report</td>\n",
       "      <td>Codeup is excited to launch our first Diversit...</td>\n",
       "    </tr>\n",
       "    <tr>\n",
       "      <th>1</th>\n",
       "      <td>Codeup Honored as SABJ Diversity and Inclusion...</td>\n",
       "      <td>Codeup has been named the 2022 Diversity and I...</td>\n",
       "    </tr>\n",
       "    <tr>\n",
       "      <th>2</th>\n",
       "      <td>How Can I Finance My Career Transition?</td>\n",
       "      <td>Deciding to transition into a tech career is a...</td>\n",
       "    </tr>\n",
       "    <tr>\n",
       "      <th>3</th>\n",
       "      <td>Tips for Women Beginning a Career in Tech</td>\n",
       "      <td>Codeup strongly values diversity, and inclusio...</td>\n",
       "    </tr>\n",
       "    <tr>\n",
       "      <th>4</th>\n",
       "      <td>What is Cloud Computing and AWS?</td>\n",
       "      <td>With many companies switching to cloud service...</td>\n",
       "    </tr>\n",
       "    <tr>\n",
       "      <th>5</th>\n",
       "      <td>2022 SABJ C-Suite Award Winner: Stephen Noteboom</td>\n",
       "      <td>Codeup’s Chief Operating Officer, Stephen Note...</td>\n",
       "    </tr>\n",
       "  </tbody>\n",
       "</table>\n",
       "</div>"
      ],
      "text/plain": [
       "                                               title  \\\n",
       "0              Diversity Equity and Inclusion Report   \n",
       "1  Codeup Honored as SABJ Diversity and Inclusion...   \n",
       "2            How Can I Finance My Career Transition?   \n",
       "3          Tips for Women Beginning a Career in Tech   \n",
       "4                   What is Cloud Computing and AWS?   \n",
       "5   2022 SABJ C-Suite Award Winner: Stephen Noteboom   \n",
       "\n",
       "                                             content  \n",
       "0  Codeup is excited to launch our first Diversit...  \n",
       "1  Codeup has been named the 2022 Diversity and I...  \n",
       "2  Deciding to transition into a tech career is a...  \n",
       "3  Codeup strongly values diversity, and inclusio...  \n",
       "4  With many companies switching to cloud service...  \n",
       "5  Codeup’s Chief Operating Officer, Stephen Note...  "
      ]
     },
     "execution_count": 15,
     "metadata": {},
     "output_type": "execute_result"
    }
   ],
   "source": [
    "get_blog_content(url)"
   ]
  },
  {
   "cell_type": "code",
   "execution_count": 16,
   "id": "8a721870-5059-4bb5-ac6d-3db4e7650fcf",
   "metadata": {},
   "outputs": [],
   "source": [
    "import acquire"
   ]
  },
  {
   "cell_type": "code",
   "execution_count": 17,
   "id": "ca9b247c-1bb1-496f-8c75-0ea01a81040f",
   "metadata": {},
   "outputs": [
    {
     "data": {
      "text/plain": [
       "'https://codeup.com/blog/'"
      ]
     },
     "execution_count": 17,
     "metadata": {},
     "output_type": "execute_result"
    }
   ],
   "source": [
    "url"
   ]
  },
  {
   "cell_type": "code",
   "execution_count": 18,
   "id": "c5e0a736-32f4-4a6b-9452-60e8305ae29c",
   "metadata": {},
   "outputs": [
    {
     "name": "stderr",
     "output_type": "stream",
     "text": [
      "/Users/morgancross/codeup-data-science/natural-language-processing-exercises/acquire.py:13: GuessedAtParserWarning: No parser was explicitly specified, so I'm using the best available HTML parser for this system (\"lxml\"). This usually isn't a problem, but if you run this code on another system, or in a different virtual environment, it may use a different parser and behave differently.\n",
      "\n",
      "The code that caused this warning is on line 13 of the file /Users/morgancross/codeup-data-science/natural-language-processing-exercises/acquire.py. To get rid of this warning, pass the additional argument 'features=\"lxml\"' to the BeautifulSoup constructor.\n",
      "\n",
      "  article_soup = BeautifulSoup(requests.get(blog, headers=header).content)\n"
     ]
    },
    {
     "data": {
      "text/html": [
       "<div>\n",
       "<style scoped>\n",
       "    .dataframe tbody tr th:only-of-type {\n",
       "        vertical-align: middle;\n",
       "    }\n",
       "\n",
       "    .dataframe tbody tr th {\n",
       "        vertical-align: top;\n",
       "    }\n",
       "\n",
       "    .dataframe thead th {\n",
       "        text-align: right;\n",
       "    }\n",
       "</style>\n",
       "<table border=\"1\" class=\"dataframe\">\n",
       "  <thead>\n",
       "    <tr style=\"text-align: right;\">\n",
       "      <th></th>\n",
       "      <th>title</th>\n",
       "      <th>content</th>\n",
       "    </tr>\n",
       "  </thead>\n",
       "  <tbody>\n",
       "    <tr>\n",
       "      <th>0</th>\n",
       "      <td>Diversity Equity and Inclusion Report</td>\n",
       "      <td>Codeup is excited to launch our first Diversit...</td>\n",
       "    </tr>\n",
       "    <tr>\n",
       "      <th>1</th>\n",
       "      <td>Codeup Honored as SABJ Diversity and Inclusion...</td>\n",
       "      <td>Codeup has been named the 2022 Diversity and I...</td>\n",
       "    </tr>\n",
       "    <tr>\n",
       "      <th>2</th>\n",
       "      <td>How Can I Finance My Career Transition?</td>\n",
       "      <td>Deciding to transition into a tech career is a...</td>\n",
       "    </tr>\n",
       "    <tr>\n",
       "      <th>3</th>\n",
       "      <td>Tips for Women Beginning a Career in Tech</td>\n",
       "      <td>Codeup strongly values diversity, and inclusio...</td>\n",
       "    </tr>\n",
       "    <tr>\n",
       "      <th>4</th>\n",
       "      <td>What is Cloud Computing and AWS?</td>\n",
       "      <td>With many companies switching to cloud service...</td>\n",
       "    </tr>\n",
       "    <tr>\n",
       "      <th>5</th>\n",
       "      <td>2022 SABJ C-Suite Award Winner: Stephen Noteboom</td>\n",
       "      <td>Codeup’s Chief Operating Officer, Stephen Note...</td>\n",
       "    </tr>\n",
       "  </tbody>\n",
       "</table>\n",
       "</div>"
      ],
      "text/plain": [
       "                                               title  \\\n",
       "0              Diversity Equity and Inclusion Report   \n",
       "1  Codeup Honored as SABJ Diversity and Inclusion...   \n",
       "2            How Can I Finance My Career Transition?   \n",
       "3          Tips for Women Beginning a Career in Tech   \n",
       "4                   What is Cloud Computing and AWS?   \n",
       "5   2022 SABJ C-Suite Award Winner: Stephen Noteboom   \n",
       "\n",
       "                                             content  \n",
       "0  Codeup is excited to launch our first Diversit...  \n",
       "1  Codeup has been named the 2022 Diversity and I...  \n",
       "2  Deciding to transition into a tech career is a...  \n",
       "3  Codeup strongly values diversity, and inclusio...  \n",
       "4  With many companies switching to cloud service...  \n",
       "5  Codeup’s Chief Operating Officer, Stephen Note...  "
      ]
     },
     "execution_count": 18,
     "metadata": {},
     "output_type": "execute_result"
    }
   ],
   "source": [
    "acquire.get_blog_articles(url)"
   ]
  },
  {
   "cell_type": "code",
   "execution_count": 6,
   "id": "597addef-a0c7-4842-b56a-2dbb5667f76d",
   "metadata": {},
   "outputs": [
    {
     "data": {
      "text/plain": [
       "6"
      ]
     },
     "execution_count": 6,
     "metadata": {},
     "output_type": "execute_result"
    }
   ],
   "source": [
    "len(soup.select('article'))"
   ]
  },
  {
   "cell_type": "code",
   "execution_count": 7,
   "id": "236912c6-af5d-4952-9647-6116b3293a5f",
   "metadata": {},
   "outputs": [],
   "source": [
    "articles = soup.select('article')"
   ]
  },
  {
   "cell_type": "code",
   "execution_count": 8,
   "id": "9801122a-f559-44db-be32-9317a6929856",
   "metadata": {},
   "outputs": [
    {
     "data": {
      "text/plain": [
       "<article class=\"et_pb_post clearfix et_pb_blog_item_0_0 post-19236 post type-post status-publish format-standard has-post-thumbnail hentry category-codeup-news\" id=\"post-19236\">\n",
       "<div class=\"et_pb_image_container\"><a class=\"entry-featured-image-url\" href=\"https://codeup.com/codeup-news/dei-report/\"><img alt=\"Diversity Equity and Inclusion Report\" class=\"\" height=\"250\" loading=\"lazy\" sizes=\"(max-width:479px) 479px, 100vw \" src=\"https://199lj33nqk3p88xz03dvn481-wpengine.netdna-ssl.com/wp-content/uploads/2022/10/Featured-Images-400x250.jpg\" srcset=\"https://199lj33nqk3p88xz03dvn481-wpengine.netdna-ssl.com/wp-content/uploads/2022/10/Featured-Images.jpg 479w, https://199lj33nqk3p88xz03dvn481-wpengine.netdna-ssl.com/wp-content/uploads/2022/10/Featured-Images-400x250.jpg 480w \" width=\"400\"/></a></div>\n",
       "<h2 class=\"entry-title\"><a href=\"https://codeup.com/codeup-news/dei-report/\">Diversity Equity and Inclusion Report</a></h2>\n",
       "<p class=\"post-meta\"><span class=\"published\">Oct 7, 2022</span></p><div class=\"post-content\"><div class=\"post-content-inner\"><p>Codeup is excited to launch our first Diversity Equity, and Inclusion (DEI) report! In over eight years as an...</p>\n",
       "</div><a class=\"more-link\" href=\"https://codeup.com/codeup-news/dei-report/\">read more</a></div>\n",
       "</article>"
      ]
     },
     "execution_count": 8,
     "metadata": {},
     "output_type": "execute_result"
    }
   ],
   "source": [
    "articles[0]"
   ]
  },
  {
   "cell_type": "code",
   "execution_count": 9,
   "id": "3ba735ac-06d1-488c-878e-594fce2c769f",
   "metadata": {},
   "outputs": [
    {
     "data": {
      "text/plain": [
       "['']"
      ]
     },
     "execution_count": 9,
     "metadata": {},
     "output_type": "execute_result"
    }
   ],
   "source": [
    "[thing.text.strip() for thing in soup.select('article')[0].div]"
   ]
  },
  {
   "cell_type": "code",
   "execution_count": 10,
   "id": "7dccd7c3-0f9e-4cd4-9bed-4ce4df01d39a",
   "metadata": {},
   "outputs": [
    {
     "data": {
      "text/plain": [
       "'Codeup is excited to launch our first Diversity Equity, and Inclusion (DEI) report! In over eight years as an...'"
      ]
     },
     "execution_count": 10,
     "metadata": {},
     "output_type": "execute_result"
    }
   ],
   "source": [
    "articles[0].find_all('p')[1].text.strip()"
   ]
  },
  {
   "cell_type": "code",
   "execution_count": 11,
   "id": "3505e528-1ac1-4226-8118-caf629638353",
   "metadata": {},
   "outputs": [],
   "source": [
    "def get_article_content(art):\n",
    "    output = {}\n",
    "    output['headline'] = art.find('h2').text.strip()\n",
    "    output['content'] = art.find_all('p')[1].text.strip()\n",
    "    return output"
   ]
  },
  {
   "cell_type": "code",
   "execution_count": 12,
   "id": "d854bd92-e723-455d-9adb-40d78180f37a",
   "metadata": {},
   "outputs": [
    {
     "data": {
      "text/plain": [
       "{'headline': 'Diversity Equity and Inclusion Report',\n",
       " 'content': 'Codeup is excited to launch our first Diversity Equity, and Inclusion (DEI) report! In over eight years as an...'}"
      ]
     },
     "execution_count": 12,
     "metadata": {},
     "output_type": "execute_result"
    }
   ],
   "source": [
    "get_article_content(articles[0])"
   ]
  },
  {
   "cell_type": "code",
   "execution_count": 13,
   "id": "9acfc506-3571-4653-8597-62a67ad9dc0e",
   "metadata": {},
   "outputs": [],
   "source": [
    "def acquire_articles(url):\n",
    "    headers = {'User-Agent': 'Codeup Data Science'}\n",
    "    soup = BeautifulSoup(requests.get(url, headers=headers).content, 'html.parser')\n",
    "    arts = soup.select('article')\n",
    "    final = [get_article_content(art) for art in arts]\n",
    "    return pd.DataFrame(final)"
   ]
  },
  {
   "cell_type": "code",
   "execution_count": 14,
   "id": "a08298d8-c075-4c23-98af-908bf5d1f349",
   "metadata": {},
   "outputs": [
    {
     "data": {
      "text/html": [
       "<div>\n",
       "<style scoped>\n",
       "    .dataframe tbody tr th:only-of-type {\n",
       "        vertical-align: middle;\n",
       "    }\n",
       "\n",
       "    .dataframe tbody tr th {\n",
       "        vertical-align: top;\n",
       "    }\n",
       "\n",
       "    .dataframe thead th {\n",
       "        text-align: right;\n",
       "    }\n",
       "</style>\n",
       "<table border=\"1\" class=\"dataframe\">\n",
       "  <thead>\n",
       "    <tr style=\"text-align: right;\">\n",
       "      <th></th>\n",
       "      <th>headline</th>\n",
       "      <th>content</th>\n",
       "    </tr>\n",
       "  </thead>\n",
       "  <tbody>\n",
       "    <tr>\n",
       "      <th>0</th>\n",
       "      <td>Diversity Equity and Inclusion Report</td>\n",
       "      <td>Codeup is excited to launch our first Diversit...</td>\n",
       "    </tr>\n",
       "    <tr>\n",
       "      <th>1</th>\n",
       "      <td>Codeup Honored as SABJ Diversity and Inclusion...</td>\n",
       "      <td>Codeup has been named the 2022 Diversity and I...</td>\n",
       "    </tr>\n",
       "    <tr>\n",
       "      <th>2</th>\n",
       "      <td>How Can I Finance My Career Transition?</td>\n",
       "      <td>Deciding to transition into a tech career is a...</td>\n",
       "    </tr>\n",
       "    <tr>\n",
       "      <th>3</th>\n",
       "      <td>Tips for Women Beginning a Career in Tech</td>\n",
       "      <td>Codeup strongly values diversity, and inclusio...</td>\n",
       "    </tr>\n",
       "    <tr>\n",
       "      <th>4</th>\n",
       "      <td>What is Cloud Computing and AWS?</td>\n",
       "      <td>With many companies switching to cloud service...</td>\n",
       "    </tr>\n",
       "    <tr>\n",
       "      <th>5</th>\n",
       "      <td>2022 SABJ C-Suite Award Winner: Stephen Noteboom</td>\n",
       "      <td>Codeup’s Chief Operating Officer, Stephen Note...</td>\n",
       "    </tr>\n",
       "  </tbody>\n",
       "</table>\n",
       "</div>"
      ],
      "text/plain": [
       "                                            headline  \\\n",
       "0              Diversity Equity and Inclusion Report   \n",
       "1  Codeup Honored as SABJ Diversity and Inclusion...   \n",
       "2            How Can I Finance My Career Transition?   \n",
       "3          Tips for Women Beginning a Career in Tech   \n",
       "4                   What is Cloud Computing and AWS?   \n",
       "5   2022 SABJ C-Suite Award Winner: Stephen Noteboom   \n",
       "\n",
       "                                             content  \n",
       "0  Codeup is excited to launch our first Diversit...  \n",
       "1  Codeup has been named the 2022 Diversity and I...  \n",
       "2  Deciding to transition into a tech career is a...  \n",
       "3  Codeup strongly values diversity, and inclusio...  \n",
       "4  With many companies switching to cloud service...  \n",
       "5  Codeup’s Chief Operating Officer, Stephen Note...  "
      ]
     },
     "execution_count": 14,
     "metadata": {},
     "output_type": "execute_result"
    }
   ],
   "source": [
    "acquire_articles(url)"
   ]
  },
  {
   "cell_type": "code",
   "execution_count": 3,
   "id": "dc1ddef9-b770-4257-9342-725580662bb2",
   "metadata": {},
   "outputs": [],
   "source": [
    "import acquire"
   ]
  },
  {
   "cell_type": "code",
   "execution_count": 4,
   "id": "2c332147-4923-43a0-b4a7-7c1d20529ddf",
   "metadata": {},
   "outputs": [
    {
     "data": {
      "text/plain": [
       "'https://codeup.com/blog/'"
      ]
     },
     "execution_count": 4,
     "metadata": {},
     "output_type": "execute_result"
    }
   ],
   "source": [
    "url"
   ]
  },
  {
   "cell_type": "code",
   "execution_count": 5,
   "id": "d9e20fce-a0eb-4e98-8bf7-00c2cedb8672",
   "metadata": {},
   "outputs": [
    {
     "data": {
      "text/html": [
       "<div>\n",
       "<style scoped>\n",
       "    .dataframe tbody tr th:only-of-type {\n",
       "        vertical-align: middle;\n",
       "    }\n",
       "\n",
       "    .dataframe tbody tr th {\n",
       "        vertical-align: top;\n",
       "    }\n",
       "\n",
       "    .dataframe thead th {\n",
       "        text-align: right;\n",
       "    }\n",
       "</style>\n",
       "<table border=\"1\" class=\"dataframe\">\n",
       "  <thead>\n",
       "    <tr style=\"text-align: right;\">\n",
       "      <th></th>\n",
       "      <th>headline</th>\n",
       "      <th>posted</th>\n",
       "      <th>content</th>\n",
       "    </tr>\n",
       "  </thead>\n",
       "  <tbody>\n",
       "    <tr>\n",
       "      <th>0</th>\n",
       "      <td>Diversity Equity and Inclusion Report</td>\n",
       "      <td>Oct 7, 2022</td>\n",
       "      <td>Codeup is excited to launch our first Diversit...</td>\n",
       "    </tr>\n",
       "    <tr>\n",
       "      <th>1</th>\n",
       "      <td>Codeup Honored as SABJ Diversity and Inclusion...</td>\n",
       "      <td>Oct 7, 2022</td>\n",
       "      <td>Codeup has been named the 2022 Diversity and I...</td>\n",
       "    </tr>\n",
       "    <tr>\n",
       "      <th>2</th>\n",
       "      <td>How Can I Finance My Career Transition?</td>\n",
       "      <td>Sep 29, 2022</td>\n",
       "      <td>Deciding to transition into a tech career is a...</td>\n",
       "    </tr>\n",
       "    <tr>\n",
       "      <th>3</th>\n",
       "      <td>Tips for Women Beginning a Career in Tech</td>\n",
       "      <td>Sep 23, 2022</td>\n",
       "      <td>Codeup strongly values diversity, and inclusio...</td>\n",
       "    </tr>\n",
       "    <tr>\n",
       "      <th>4</th>\n",
       "      <td>What is Cloud Computing and AWS?</td>\n",
       "      <td>Sep 13, 2022</td>\n",
       "      <td>With many companies switching to cloud service...</td>\n",
       "    </tr>\n",
       "    <tr>\n",
       "      <th>5</th>\n",
       "      <td>2022 SABJ C-Suite Award Winner: Stephen Noteboom</td>\n",
       "      <td>Sep 9, 2022</td>\n",
       "      <td>Codeup’s Chief Operating Officer, Stephen Note...</td>\n",
       "    </tr>\n",
       "  </tbody>\n",
       "</table>\n",
       "</div>"
      ],
      "text/plain": [
       "                                            headline        posted  \\\n",
       "0              Diversity Equity and Inclusion Report   Oct 7, 2022   \n",
       "1  Codeup Honored as SABJ Diversity and Inclusion...   Oct 7, 2022   \n",
       "2            How Can I Finance My Career Transition?  Sep 29, 2022   \n",
       "3          Tips for Women Beginning a Career in Tech  Sep 23, 2022   \n",
       "4                   What is Cloud Computing and AWS?  Sep 13, 2022   \n",
       "5   2022 SABJ C-Suite Award Winner: Stephen Noteboom   Sep 9, 2022   \n",
       "\n",
       "                                             content  \n",
       "0  Codeup is excited to launch our first Diversit...  \n",
       "1  Codeup has been named the 2022 Diversity and I...  \n",
       "2  Deciding to transition into a tech career is a...  \n",
       "3  Codeup strongly values diversity, and inclusio...  \n",
       "4  With many companies switching to cloud service...  \n",
       "5  Codeup’s Chief Operating Officer, Stephen Note...  "
      ]
     },
     "execution_count": 5,
     "metadata": {},
     "output_type": "execute_result"
    }
   ],
   "source": [
    "acquire.get_blog_articles(url)"
   ]
  },
  {
   "cell_type": "code",
   "execution_count": 24,
   "id": "a66d5ab2-de5f-4abb-b705-65a26db676ad",
   "metadata": {},
   "outputs": [],
   "source": [
    "url = 'https://inshorts.com/en/read'"
   ]
  },
  {
   "cell_type": "code",
   "execution_count": 25,
   "id": "a4005d0c-b3a5-45e5-b368-4bc6250688db",
   "metadata": {},
   "outputs": [],
   "source": [
    "soup = BeautifulSoup(requests.get(url).content)"
   ]
  },
  {
   "cell_type": "code",
   "execution_count": 26,
   "id": "8967828a-c286-4318-9b01-f8456a5ae0d3",
   "metadata": {},
   "outputs": [
    {
     "data": {
      "text/plain": [
       "'india'"
      ]
     },
     "execution_count": 26,
     "metadata": {},
     "output_type": "execute_result"
    }
   ],
   "source": [
    "soup.find_all('li')[1].text.lower()"
   ]
  },
  {
   "cell_type": "code",
   "execution_count": 27,
   "id": "b77c9668-4273-4910-a711-25b1c991e270",
   "metadata": {},
   "outputs": [
    {
     "data": {
      "text/plain": [
       "'https://inshorts.com/en/read/india'"
      ]
     },
     "execution_count": 27,
     "metadata": {},
     "output_type": "execute_result"
    }
   ],
   "source": [
    "url + '/' + soup.find_all('li')[1].text.lower()"
   ]
  },
  {
   "cell_type": "code",
   "execution_count": 28,
   "id": "db4a41ee-851d-4272-9012-d581bd7e4e22",
   "metadata": {},
   "outputs": [],
   "source": [
    "def get_cats(url):\n",
    "    soup = BeautifulSoup(requests.get(url).content)\n",
    "    return [cat.text.lower() for cat in soup.find_all('li')[1:]]"
   ]
  },
  {
   "cell_type": "code",
   "execution_count": 29,
   "id": "98fad7cf-5d38-4dd6-89c3-eb826bf597b8",
   "metadata": {},
   "outputs": [
    {
     "data": {
      "text/plain": [
       "['india',\n",
       " 'business',\n",
       " 'sports',\n",
       " 'world',\n",
       " 'politics',\n",
       " 'technology',\n",
       " 'startup',\n",
       " 'entertainment',\n",
       " 'miscellaneous',\n",
       " 'hatke',\n",
       " 'science',\n",
       " 'automobile']"
      ]
     },
     "execution_count": 29,
     "metadata": {},
     "output_type": "execute_result"
    }
   ],
   "source": [
    "get_cats(url)"
   ]
  },
  {
   "cell_type": "code",
   "execution_count": 31,
   "id": "d358233e-11cc-47e6-b0bf-099d20073bcb",
   "metadata": {},
   "outputs": [],
   "source": [
    "cat_url = url + '/science'"
   ]
  },
  {
   "cell_type": "code",
   "execution_count": 33,
   "id": "edbe82c2-b567-43b3-93a3-0f15f76f9995",
   "metadata": {},
   "outputs": [],
   "source": [
    "cat_soup = BeautifulSoup(requests.get(cat_url).content)\n",
    "# cat_soup"
   ]
  },
  {
   "cell_type": "code",
   "execution_count": 45,
   "id": "2a082102-7e2b-44a5-933a-db2f245dcdfd",
   "metadata": {},
   "outputs": [],
   "source": [
    "cat_titles = [title.text for title in cat_soup.find_all('span', itemprop='headline')]"
   ]
  },
  {
   "cell_type": "code",
   "execution_count": 47,
   "id": "5fe54eea-d40a-4ad4-8cc6-29586b03a065",
   "metadata": {},
   "outputs": [],
   "source": [
    "cat_bodies = [body.text for body in cat_soup.find_all('div', itemprop='articleBody')]"
   ]
  },
  {
   "cell_type": "code",
   "execution_count": 50,
   "id": "44151219-a6c5-4fd8-93bc-8b67094bbf8a",
   "metadata": {},
   "outputs": [
    {
     "data": {
      "text/plain": [
       "True"
      ]
     },
     "execution_count": 50,
     "metadata": {},
     "output_type": "execute_result"
    }
   ],
   "source": [
    "len(cat_bodies) == len(cat_titles)"
   ]
  },
  {
   "cell_type": "code",
   "execution_count": 55,
   "id": "d35053c2-8eb1-4f8b-8f0b-3313c0db3013",
   "metadata": {},
   "outputs": [],
   "source": [
    "# for title, body in zip(cat_titles, cat_bodies):\n",
    "#     print(title)\n",
    "#     print(body)\n",
    "#     print()"
   ]
  },
  {
   "cell_type": "code",
   "execution_count": 62,
   "id": "6277f6ad-ae36-40ee-910f-366c422a86ce",
   "metadata": {},
   "outputs": [],
   "source": [
    "def get_all_shorts(url):\n",
    "    cats = get_cats(url)\n",
    "    output = []\n",
    "    for cat in cats:\n",
    "        cat_url = url + '/' + cat\n",
    "        cat_soup = BeautifulSoup(requests.get(cat_url).content)\n",
    "        cat_titles = [title.text for title in cat_soup.find_all('span', itemprop='headline')]\n",
    "        cat_bodies = [body.text for body in cat_soup.find_all('div', itemprop='articleBody')]\n",
    "        caticles = [{'title': title,\n",
    "                     'content': body,\n",
    "                     'category': cat} for title, body in zip(cat_titles, cat_bodies)]\n",
    "        output.extend(caticles)\n",
    "    return pd.DataFrame(output)"
   ]
  },
  {
   "cell_type": "code",
   "execution_count": 63,
   "id": "e600ed85-bc06-46f5-aec3-a824276a0b25",
   "metadata": {},
   "outputs": [
    {
     "data": {
      "text/plain": [
       "'https://inshorts.com/en/read'"
      ]
     },
     "execution_count": 63,
     "metadata": {},
     "output_type": "execute_result"
    }
   ],
   "source": [
    "url"
   ]
  },
  {
   "cell_type": "code",
   "execution_count": 65,
   "id": "46a35840-71aa-4c6e-9c93-f0887b7aa4af",
   "metadata": {},
   "outputs": [],
   "source": [
    "results = get_all_shorts(url)"
   ]
  },
  {
   "cell_type": "code",
   "execution_count": 66,
   "id": "4b8cb61b-78b4-4677-a017-9b311b710a3f",
   "metadata": {},
   "outputs": [
    {
     "data": {
      "text/html": [
       "<div>\n",
       "<style scoped>\n",
       "    .dataframe tbody tr th:only-of-type {\n",
       "        vertical-align: middle;\n",
       "    }\n",
       "\n",
       "    .dataframe tbody tr th {\n",
       "        vertical-align: top;\n",
       "    }\n",
       "\n",
       "    .dataframe thead th {\n",
       "        text-align: right;\n",
       "    }\n",
       "</style>\n",
       "<table border=\"1\" class=\"dataframe\">\n",
       "  <thead>\n",
       "    <tr style=\"text-align: right;\">\n",
       "      <th></th>\n",
       "      <th>title</th>\n",
       "      <th>content</th>\n",
       "      <th>category</th>\n",
       "    </tr>\n",
       "  </thead>\n",
       "  <tbody>\n",
       "    <tr>\n",
       "      <th>0</th>\n",
       "      <td>Oldest woman in India passes away</td>\n",
       "      <td>Kunjannam, a 112-yr-old woman from Parannur (K...</td>\n",
       "      <td>india</td>\n",
       "    </tr>\n",
       "    <tr>\n",
       "      <th>1</th>\n",
       "      <td>Zimbabwe players ask India for cricketing tips</td>\n",
       "      <td>After getting thrashed by India by 5-0 in the ...</td>\n",
       "      <td>india</td>\n",
       "    </tr>\n",
       "    <tr>\n",
       "      <th>2</th>\n",
       "      <td>AAP drops Rajouri Garden candidate, a week bef...</td>\n",
       "      <td>Only a week before Delhi Assembly polls, Aam A...</td>\n",
       "      <td>india</td>\n",
       "    </tr>\n",
       "    <tr>\n",
       "      <th>3</th>\n",
       "      <td>Kashmir's famous Dal Lake freezes</td>\n",
       "      <td>After the recent snowfall in upper reaches of ...</td>\n",
       "      <td>india</td>\n",
       "    </tr>\n",
       "    <tr>\n",
       "      <th>4</th>\n",
       "      <td>Bharti Airtel rakes in 61% profit</td>\n",
       "      <td>Bharti Airtel, India's top telecommunications ...</td>\n",
       "      <td>india</td>\n",
       "    </tr>\n",
       "    <tr>\n",
       "      <th>...</th>\n",
       "      <td>...</td>\n",
       "      <td>...</td>\n",
       "      <td>...</td>\n",
       "    </tr>\n",
       "    <tr>\n",
       "      <th>279</th>\n",
       "      <td>Tesla's record EV deliveries in Q3 miss estima...</td>\n",
       "      <td>Tesla Inc said that electric vehicle deliverie...</td>\n",
       "      <td>automobile</td>\n",
       "    </tr>\n",
       "    <tr>\n",
       "      <th>280</th>\n",
       "      <td>China's Geely buys 7.6% stake in Aston Martin</td>\n",
       "      <td>China-based Zhejiang Geely announced on Friday...</td>\n",
       "      <td>automobile</td>\n",
       "    </tr>\n",
       "    <tr>\n",
       "      <th>281</th>\n",
       "      <td>Record 5.4 lakh vehicles sold during Navratri ...</td>\n",
       "      <td>Federation of Automobile Dealers Associations ...</td>\n",
       "      <td>automobile</td>\n",
       "    </tr>\n",
       "    <tr>\n",
       "      <th>282</th>\n",
       "      <td>Fix for wheel issue that caused electric car r...</td>\n",
       "      <td>Toyota Motor said it has found a fix for the d...</td>\n",
       "      <td>automobile</td>\n",
       "    </tr>\n",
       "    <tr>\n",
       "      <th>283</th>\n",
       "      <td>Vehicle registrations during festivals doubled...</td>\n",
       "      <td>Vehicle registrations more than doubled in thi...</td>\n",
       "      <td>automobile</td>\n",
       "    </tr>\n",
       "  </tbody>\n",
       "</table>\n",
       "<p>284 rows × 3 columns</p>\n",
       "</div>"
      ],
      "text/plain": [
       "                                                 title  \\\n",
       "0                    Oldest woman in India passes away   \n",
       "1       Zimbabwe players ask India for cricketing tips   \n",
       "2    AAP drops Rajouri Garden candidate, a week bef...   \n",
       "3                    Kashmir's famous Dal Lake freezes   \n",
       "4                    Bharti Airtel rakes in 61% profit   \n",
       "..                                                 ...   \n",
       "279  Tesla's record EV deliveries in Q3 miss estima...   \n",
       "280      China's Geely buys 7.6% stake in Aston Martin   \n",
       "281  Record 5.4 lakh vehicles sold during Navratri ...   \n",
       "282  Fix for wheel issue that caused electric car r...   \n",
       "283  Vehicle registrations during festivals doubled...   \n",
       "\n",
       "                                               content    category  \n",
       "0    Kunjannam, a 112-yr-old woman from Parannur (K...       india  \n",
       "1    After getting thrashed by India by 5-0 in the ...       india  \n",
       "2    Only a week before Delhi Assembly polls, Aam A...       india  \n",
       "3    After the recent snowfall in upper reaches of ...       india  \n",
       "4    Bharti Airtel, India's top telecommunications ...       india  \n",
       "..                                                 ...         ...  \n",
       "279  Tesla Inc said that electric vehicle deliverie...  automobile  \n",
       "280  China-based Zhejiang Geely announced on Friday...  automobile  \n",
       "281  Federation of Automobile Dealers Associations ...  automobile  \n",
       "282  Toyota Motor said it has found a fix for the d...  automobile  \n",
       "283  Vehicle registrations more than doubled in thi...  automobile  \n",
       "\n",
       "[284 rows x 3 columns]"
      ]
     },
     "execution_count": 66,
     "metadata": {},
     "output_type": "execute_result"
    }
   ],
   "source": [
    "results"
   ]
  },
  {
   "cell_type": "code",
   "execution_count": null,
   "id": "69284fd9-257c-4b78-86cb-bf7d5fba5a7f",
   "metadata": {},
   "outputs": [],
   "source": []
  },
  {
   "cell_type": "code",
   "execution_count": null,
   "id": "02a66970-d9c5-42bc-a2f7-2af1cb3d3f39",
   "metadata": {},
   "outputs": [],
   "source": []
  },
  {
   "cell_type": "code",
   "execution_count": 20,
   "id": "02646cb0-1999-4eb2-9690-98217400d0ba",
   "metadata": {},
   "outputs": [],
   "source": [
    "url = 'https://inshorts.com/en/read/business'"
   ]
  },
  {
   "cell_type": "code",
   "execution_count": 11,
   "id": "14d5f85b-c939-40a9-ab3b-4598ee1c41dc",
   "metadata": {},
   "outputs": [],
   "source": [
    "page = ['/business', '/sports', '/technology', '/entertainment']"
   ]
  },
  {
   "cell_type": "code",
   "execution_count": 21,
   "id": "36ff9196-73f6-4a69-a4ae-dce3a1211b08",
   "metadata": {},
   "outputs": [],
   "source": [
    "soup = BeautifulSoup(requests.get(url).content, 'html.parser')"
   ]
  },
  {
   "cell_type": "code",
   "execution_count": 32,
   "id": "e8b13501-1b98-433e-b154-154958cd5aec",
   "metadata": {},
   "outputs": [],
   "source": [
    "headers = soup.select('a.clickable')\n",
    "# headers"
   ]
  },
  {
   "cell_type": "code",
   "execution_count": 26,
   "id": "68c540bf-ce2e-42ca-9762-54fb629109dd",
   "metadata": {},
   "outputs": [
    {
     "data": {
      "text/plain": [
       "'HCLTech adds highest-ever 10,339 freshers, reports 23.8% attrition in Jul-Sept'"
      ]
     },
     "execution_count": 26,
     "metadata": {},
     "output_type": "execute_result"
    }
   ],
   "source": [
    "headers[0].span.text.strip()"
   ]
  },
  {
   "cell_type": "code",
   "execution_count": 27,
   "id": "2d2b9eeb-1e8a-4067-9049-dec322326431",
   "metadata": {},
   "outputs": [],
   "source": [
    "contents = soup.select('div.news-card-content.news-right-box')"
   ]
  },
  {
   "cell_type": "code",
   "execution_count": 29,
   "id": "69199520-23db-437d-93ef-6292435cb18c",
   "metadata": {},
   "outputs": [],
   "source": [
    "# contents"
   ]
  },
  {
   "cell_type": "code",
   "execution_count": 31,
   "id": "9b01c3ae-4387-459d-b166-a4c6d9ec56a9",
   "metadata": {},
   "outputs": [
    {
     "data": {
      "text/plain": [
       "\"HCLTech reported its highest-ever hiring of 10,339 freshers in July-September quarter, MD and CEO C Vijayakumar said on Wednesday. HCLTech's attrition rate in the quarter stood at 23.8%, same as that in April-June quarter. Meanwhile, the firm reported net employee addition of 8,359 employees in Q2 FY23, up from net employee addition of 2,089 employees in Q1 FY23.\""
      ]
     },
     "execution_count": 31,
     "metadata": {},
     "output_type": "execute_result"
    }
   ],
   "source": [
    "contents[0].div.text.strip()"
   ]
  },
  {
   "cell_type": "code",
   "execution_count": 49,
   "id": "6b35b0bc-5724-4101-b5f1-abae00e657f7",
   "metadata": {},
   "outputs": [
    {
     "data": {
      "text/plain": [
       "'https://inshorts.com/en/read'"
      ]
     },
     "execution_count": 49,
     "metadata": {},
     "output_type": "execute_result"
    }
   ],
   "source": [
    "url"
   ]
  },
  {
   "cell_type": "code",
   "execution_count": 59,
   "id": "a1284979-3569-416e-89c7-b03abd98e353",
   "metadata": {},
   "outputs": [],
   "source": [
    "def acquire_articles(url):\n",
    "    pages = ['/business', '/sports', '/technology', '/entertainment']\n",
    "    results = pd.DataFrame()\n",
    "    for page in pages:\n",
    "        hold = get_article_content(url, page)\n",
    "        results = pd.concat([results, hold])\n",
    "    return results"
   ]
  },
  {
   "cell_type": "code",
   "execution_count": 53,
   "id": "58cce3e5-718c-4819-adf2-9f61c6dc14c0",
   "metadata": {},
   "outputs": [],
   "source": [
    "def get_article_content(url, page):\n",
    "    temp = {}\n",
    "    soup = BeautifulSoup(requests.get(url+page).content, 'html.parser')\n",
    "    headers = soup.select('a.clickable')\n",
    "    contents = soup.select('div.news-card-content.news-right-box')\n",
    "    titles = [title.span.text.strip() for title in headers]\n",
    "    arts = [art.div.text.strip() for art in contents]\n",
    "    temp['title'] = titles\n",
    "    temp['content'] = arts\n",
    "    temp['category'] = page.strip('/')\n",
    "    return pd.DataFrame(temp)"
   ]
  },
  {
   "cell_type": "code",
   "execution_count": 55,
   "id": "0b36960b-8fab-4721-9943-c39aa095ad4c",
   "metadata": {},
   "outputs": [],
   "source": [
    "bus = get_article_content(url, '/business')\n",
    "sp = get_article_content(url, '/sports')"
   ]
  },
  {
   "cell_type": "code",
   "execution_count": 62,
   "id": "e1ac23bf-d0d2-4dd4-bcce-770da64b8bb8",
   "metadata": {},
   "outputs": [],
   "source": [
    "# pd.concat([bus, sp])"
   ]
  },
  {
   "cell_type": "code",
   "execution_count": 61,
   "id": "000de0b6-828b-475a-9663-7d20ae7806cc",
   "metadata": {},
   "outputs": [],
   "source": [
    "df = acquire_articles(url)"
   ]
  },
  {
   "cell_type": "code",
   "execution_count": 63,
   "id": "4458575d-e2f3-4813-8cde-2984d6d3481a",
   "metadata": {},
   "outputs": [
    {
     "data": {
      "text/plain": [
       "business         25\n",
       "sports           25\n",
       "entertainment    25\n",
       "technology       24\n",
       "Name: category, dtype: int64"
      ]
     },
     "execution_count": 63,
     "metadata": {},
     "output_type": "execute_result"
    }
   ],
   "source": [
    "df.category.value_counts()"
   ]
  },
  {
   "cell_type": "code",
   "execution_count": 6,
   "id": "ab952742-349a-47aa-b0b2-71bae4ef8d79",
   "metadata": {},
   "outputs": [],
   "source": [
    "url = 'https://inshorts.com/en/read'"
   ]
  },
  {
   "cell_type": "code",
   "execution_count": 7,
   "id": "b9a08190-c38e-4da3-804a-fc2b72e896b1",
   "metadata": {},
   "outputs": [
    {
     "data": {
      "text/html": [
       "<div>\n",
       "<style scoped>\n",
       "    .dataframe tbody tr th:only-of-type {\n",
       "        vertical-align: middle;\n",
       "    }\n",
       "\n",
       "    .dataframe tbody tr th {\n",
       "        vertical-align: top;\n",
       "    }\n",
       "\n",
       "    .dataframe thead th {\n",
       "        text-align: right;\n",
       "    }\n",
       "</style>\n",
       "<table border=\"1\" class=\"dataframe\">\n",
       "  <thead>\n",
       "    <tr style=\"text-align: right;\">\n",
       "      <th></th>\n",
       "      <th>title</th>\n",
       "      <th>content</th>\n",
       "      <th>category</th>\n",
       "    </tr>\n",
       "  </thead>\n",
       "  <tbody>\n",
       "    <tr>\n",
       "      <th>0</th>\n",
       "      <td>HCLTech adds highest-ever 10,339 freshers, rep...</td>\n",
       "      <td>HCLTech reported its highest-ever hiring of 10...</td>\n",
       "      <td>business</td>\n",
       "    </tr>\n",
       "    <tr>\n",
       "      <th>1</th>\n",
       "      <td>11 lakh railway employees to get 78 days' wage...</td>\n",
       "      <td>Union Minister Anurag Thakur on Wednesday anno...</td>\n",
       "      <td>business</td>\n",
       "    </tr>\n",
       "    <tr>\n",
       "      <th>2</th>\n",
       "      <td>Moonlighting a question of ethics, not legalit...</td>\n",
       "      <td>On being asked whether moonlighting is legal o...</td>\n",
       "      <td>business</td>\n",
       "    </tr>\n",
       "    <tr>\n",
       "      <th>3</th>\n",
       "      <td>Retail inflation averages at 7.02% in Jul-Sept...</td>\n",
       "      <td>Retail inflation in India averaged at 7.02% in...</td>\n",
       "      <td>business</td>\n",
       "    </tr>\n",
       "    <tr>\n",
       "      <th>4</th>\n",
       "      <td>Wipro to give 100% variable pay to 85% of empl...</td>\n",
       "      <td>IT services firm Wipro's CEO Thierry Delaporte...</td>\n",
       "      <td>business</td>\n",
       "    </tr>\n",
       "    <tr>\n",
       "      <th>...</th>\n",
       "      <td>...</td>\n",
       "      <td>...</td>\n",
       "      <td>...</td>\n",
       "    </tr>\n",
       "    <tr>\n",
       "      <th>20</th>\n",
       "      <td>Film festival in works to celebrate Dilip Kuma...</td>\n",
       "      <td>Film Heritage Foundation (FHF) founder Shivend...</td>\n",
       "      <td>entertainment</td>\n",
       "    </tr>\n",
       "    <tr>\n",
       "      <th>21</th>\n",
       "      <td>I may not be most talented, but I'm the hardes...</td>\n",
       "      <td>Actress Janhvi Kapoor has said that people hav...</td>\n",
       "      <td>entertainment</td>\n",
       "    </tr>\n",
       "    <tr>\n",
       "      <th>22</th>\n",
       "      <td>Got nose job to look prettier, it's my face, w...</td>\n",
       "      <td>Actress Shruti Haasan said it is very obvious ...</td>\n",
       "      <td>entertainment</td>\n",
       "    </tr>\n",
       "    <tr>\n",
       "      <th>23</th>\n",
       "      <td>Every day was difficult: Parineeti on filming ...</td>\n",
       "      <td>Parineeti Chopra shared that \"every day was di...</td>\n",
       "      <td>entertainment</td>\n",
       "    </tr>\n",
       "    <tr>\n",
       "      <th>24</th>\n",
       "      <td>'Yaariyan 2' to star Priya Prakash Varrier, Me...</td>\n",
       "      <td>T-Series on Wednesday announced the sequel of ...</td>\n",
       "      <td>entertainment</td>\n",
       "    </tr>\n",
       "  </tbody>\n",
       "</table>\n",
       "<p>99 rows × 3 columns</p>\n",
       "</div>"
      ],
      "text/plain": [
       "                                                title  \\\n",
       "0   HCLTech adds highest-ever 10,339 freshers, rep...   \n",
       "1   11 lakh railway employees to get 78 days' wage...   \n",
       "2   Moonlighting a question of ethics, not legalit...   \n",
       "3   Retail inflation averages at 7.02% in Jul-Sept...   \n",
       "4   Wipro to give 100% variable pay to 85% of empl...   \n",
       "..                                                ...   \n",
       "20  Film festival in works to celebrate Dilip Kuma...   \n",
       "21  I may not be most talented, but I'm the hardes...   \n",
       "22  Got nose job to look prettier, it's my face, w...   \n",
       "23  Every day was difficult: Parineeti on filming ...   \n",
       "24  'Yaariyan 2' to star Priya Prakash Varrier, Me...   \n",
       "\n",
       "                                              content       category  \n",
       "0   HCLTech reported its highest-ever hiring of 10...       business  \n",
       "1   Union Minister Anurag Thakur on Wednesday anno...       business  \n",
       "2   On being asked whether moonlighting is legal o...       business  \n",
       "3   Retail inflation in India averaged at 7.02% in...       business  \n",
       "4   IT services firm Wipro's CEO Thierry Delaporte...       business  \n",
       "..                                                ...            ...  \n",
       "20  Film Heritage Foundation (FHF) founder Shivend...  entertainment  \n",
       "21  Actress Janhvi Kapoor has said that people hav...  entertainment  \n",
       "22  Actress Shruti Haasan said it is very obvious ...  entertainment  \n",
       "23  Parineeti Chopra shared that \"every day was di...  entertainment  \n",
       "24  T-Series on Wednesday announced the sequel of ...  entertainment  \n",
       "\n",
       "[99 rows x 3 columns]"
      ]
     },
     "execution_count": 7,
     "metadata": {},
     "output_type": "execute_result"
    }
   ],
   "source": [
    "acquire.get_news_articles(url)"
   ]
  },
  {
   "cell_type": "code",
   "execution_count": null,
   "id": "854baf9d-5a23-4d47-b22b-9833f2368692",
   "metadata": {},
   "outputs": [],
   "source": []
  }
 ],
 "metadata": {
  "kernelspec": {
   "display_name": "Python 3 (ipykernel)",
   "language": "python",
   "name": "python3"
  },
  "language_info": {
   "codemirror_mode": {
    "name": "ipython",
    "version": 3
   },
   "file_extension": ".py",
   "mimetype": "text/x-python",
   "name": "python",
   "nbconvert_exporter": "python",
   "pygments_lexer": "ipython3",
   "version": "3.9.12"
  }
 },
 "nbformat": 4,
 "nbformat_minor": 5
}
