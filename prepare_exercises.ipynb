{
 "cells": [
  {
   "cell_type": "code",
   "execution_count": 1,
   "id": "4bb2cb14-dbe6-439c-ad59-82429795562d",
   "metadata": {},
   "outputs": [],
   "source": [
    "import pandas as pd\n",
    "import numpy as np\n",
    "import unicodedata\n",
    "import re\n",
    "import nltk\n",
    "from nltk.corpus import stopwords\n",
    "\n",
    "import acquire"
   ]
  },
  {
   "cell_type": "code",
   "execution_count": 2,
   "id": "aaec1967-c6c7-4954-adde-831184c0fdd0",
   "metadata": {},
   "outputs": [
    {
     "name": "stderr",
     "output_type": "stream",
     "text": [
      "/Users/morgancross/codeup-data-science/natural-language-processing-exercises/acquire.py:15: GuessedAtParserWarning: No parser was explicitly specified, so I'm using the best available HTML parser for this system (\"lxml\"). This usually isn't a problem, but if you run this code on another system, or in a different virtual environment, it may use a different parser and behave differently.\n",
      "\n",
      "The code that caused this warning is on line 15 of the file /Users/morgancross/codeup-data-science/natural-language-processing-exercises/acquire.py. To get rid of this warning, pass the additional argument 'features=\"lxml\"' to the BeautifulSoup constructor.\n",
      "\n",
      "  article_soup = BeautifulSoup(requests.get(blog, headers=header).content)\n"
     ]
    }
   ],
   "source": [
    "blogs = acquire.get_blog_articles()"
   ]
  },
  {
   "cell_type": "code",
   "execution_count": 20,
   "id": "f3d1b9d6-a9f0-4c49-84e9-241ae1b463ea",
   "metadata": {},
   "outputs": [
    {
     "data": {
      "text/html": [
       "<div>\n",
       "<style scoped>\n",
       "    .dataframe tbody tr th:only-of-type {\n",
       "        vertical-align: middle;\n",
       "    }\n",
       "\n",
       "    .dataframe tbody tr th {\n",
       "        vertical-align: top;\n",
       "    }\n",
       "\n",
       "    .dataframe thead th {\n",
       "        text-align: right;\n",
       "    }\n",
       "</style>\n",
       "<table border=\"1\" class=\"dataframe\">\n",
       "  <thead>\n",
       "    <tr style=\"text-align: right;\">\n",
       "      <th></th>\n",
       "      <th>title</th>\n",
       "      <th>content</th>\n",
       "    </tr>\n",
       "  </thead>\n",
       "  <tbody>\n",
       "    <tr>\n",
       "      <th>0</th>\n",
       "      <td>Diversity Equity and Inclusion Report</td>\n",
       "      <td>Codeup is excited to launch our first Diversit...</td>\n",
       "    </tr>\n",
       "    <tr>\n",
       "      <th>1</th>\n",
       "      <td>Codeup Honored as SABJ Diversity and Inclusion...</td>\n",
       "      <td>Codeup has been named the 2022 Diversity and I...</td>\n",
       "    </tr>\n",
       "    <tr>\n",
       "      <th>2</th>\n",
       "      <td>How Can I Finance My Career Transition?</td>\n",
       "      <td>Deciding to transition into a tech career is a...</td>\n",
       "    </tr>\n",
       "    <tr>\n",
       "      <th>3</th>\n",
       "      <td>Tips for Women Beginning a Career in Tech</td>\n",
       "      <td>Codeup strongly values diversity, and inclusio...</td>\n",
       "    </tr>\n",
       "    <tr>\n",
       "      <th>4</th>\n",
       "      <td>What is Cloud Computing and AWS?</td>\n",
       "      <td>With many companies switching to cloud service...</td>\n",
       "    </tr>\n",
       "    <tr>\n",
       "      <th>5</th>\n",
       "      <td>2022 SABJ C-Suite Award Winner: Stephen Noteboom</td>\n",
       "      <td>Codeup’s Chief Operating Officer, Stephen Note...</td>\n",
       "    </tr>\n",
       "  </tbody>\n",
       "</table>\n",
       "</div>"
      ],
      "text/plain": [
       "                                               title  \\\n",
       "0              Diversity Equity and Inclusion Report   \n",
       "1  Codeup Honored as SABJ Diversity and Inclusion...   \n",
       "2            How Can I Finance My Career Transition?   \n",
       "3          Tips for Women Beginning a Career in Tech   \n",
       "4                   What is Cloud Computing and AWS?   \n",
       "5   2022 SABJ C-Suite Award Winner: Stephen Noteboom   \n",
       "\n",
       "                                             content  \n",
       "0  Codeup is excited to launch our first Diversit...  \n",
       "1  Codeup has been named the 2022 Diversity and I...  \n",
       "2  Deciding to transition into a tech career is a...  \n",
       "3  Codeup strongly values diversity, and inclusio...  \n",
       "4  With many companies switching to cloud service...  \n",
       "5  Codeup’s Chief Operating Officer, Stephen Note...  "
      ]
     },
     "execution_count": 20,
     "metadata": {},
     "output_type": "execute_result"
    }
   ],
   "source": [
    "blogs"
   ]
  },
  {
   "cell_type": "code",
   "execution_count": 21,
   "id": "a03bd033-497a-4395-b235-9e28a23fcd52",
   "metadata": {},
   "outputs": [
    {
     "data": {
      "text/plain": [
       "'Codeup is excited to launch our first Diversity Equity, and Inclusion (DEI) report! In over eight years as an organization, we’ve implemented policies and grown our DEI efforts. We are extremely proud of the progress we’ve made as a staff and Codeup community, and we recognize there is more to learn. This report captures some of the ways that we’ve lived our value of Cultivating Inclusive Growth, and how we will continue doing so as we look to the future.\\nWe wanted to shine a light on the demographics of our students and staff, and in particular how that compares to the tech industry as a whole. How we collect, organize, and share employee demographic data is informed by standards set by the Equal Employment Opportunity Commission (EEOC).\\nWe are proud to celebrate how we’ve grown and are motivated and committed to do more and be better. To view the report visit the link here, or download it below.'"
      ]
     },
     "execution_count": 21,
     "metadata": {},
     "output_type": "execute_result"
    }
   ],
   "source": [
    "blogs.content[0]"
   ]
  },
  {
   "cell_type": "markdown",
   "id": "e963e226-9cb9-4770-b7cf-857e0ec07151",
   "metadata": {},
   "source": [
    "#### 1. Define a function named basic_clean. It should take in a string and apply some basic text cleaning to it:\n",
    "- Lowercase everything\n",
    "- Normalize unicode characters\n",
    "- Replace anything that is not a letter, number, whitespace or a single quote."
   ]
  },
  {
   "cell_type": "code",
   "execution_count": 4,
   "id": "be42e9e3-c78c-4ed8-8df7-f46331bb3ab1",
   "metadata": {},
   "outputs": [],
   "source": [
    "def basic_clean(text):\n",
    "    temp = text.lower()\n",
    "    temp = unicodedata.normalize('NFKD', temp).encode('ascii', 'ignore').decode('utf-8', 'ignore')\n",
    "    temp = re.sub(r'[^a-zA-Z0-9\\'\\s]', '', temp)\n",
    "    return temp"
   ]
  },
  {
   "cell_type": "code",
   "execution_count": 8,
   "id": "976f0c86-dce7-4482-aa23-2a9a4f0233ab",
   "metadata": {},
   "outputs": [
    {
     "data": {
      "text/plain": [
       "'codeup is excited to launch our first diversity equity and inclusion dei report in over eight years as an organization weve implemented policies and grown our dei efforts we are extremely proud of the progress weve made as a staff and codeup community and we recognize there is more to learn this report captures some of the ways that weve lived our value of cultivating inclusive growth and how we will continue doing so as we look to the future\\nwe wanted to shine a light on the demographics of our students and staff and in particular how that compares to the tech industry as a whole how we collect organize and share employee demographic data is informed by standards set by the equal employment opportunity commission eeoc\\nwe are proud to celebrate how weve grown and are motivated and committed to do more and be better to view the report visit the link here or download it below'"
      ]
     },
     "execution_count": 8,
     "metadata": {},
     "output_type": "execute_result"
    }
   ],
   "source": [
    "bc = basic_clean(blogs.content[0])\n",
    "bc"
   ]
  },
  {
   "cell_type": "markdown",
   "id": "51d99c93-421c-4b05-b9ed-a609ddda2a9a",
   "metadata": {},
   "source": [
    "#### 2. Define a function named tokenize. It should take in a string and tokenize all the words in the string."
   ]
  },
  {
   "cell_type": "code",
   "execution_count": 6,
   "id": "b83ffa9d-f190-4be6-a3b1-3d7053968d57",
   "metadata": {},
   "outputs": [],
   "source": [
    "def tokenize(text):\n",
    "    token = nltk.tokenize.ToktokTokenizer()\n",
    "    temp = token.tokenize(text, return_str=True)\n",
    "    return temp"
   ]
  },
  {
   "cell_type": "code",
   "execution_count": 10,
   "id": "abe2f395-070f-443f-8a50-9455e9789680",
   "metadata": {},
   "outputs": [
    {
     "data": {
      "text/plain": [
       "'codeup is excited to launch our first diversity equity and inclusion dei report in over eight years as an organization weve implemented policies and grown our dei efforts we are extremely proud of the progress weve made as a staff and codeup community and we recognize there is more to learn this report captures some of the ways that weve lived our value of cultivating inclusive growth and how we will continue doing so as we look to the future\\nwe wanted to shine a light on the demographics of our students and staff and in particular how that compares to the tech industry as a whole how we collect organize and share employee demographic data is informed by standards set by the equal employment opportunity commission eeoc\\nwe are proud to celebrate how weve grown and are motivated and committed to do more and be better to view the report visit the link here or download it below'"
      ]
     },
     "execution_count": 10,
     "metadata": {},
     "output_type": "execute_result"
    }
   ],
   "source": [
    "t = tokenize(bc)\n",
    "t"
   ]
  },
  {
   "cell_type": "markdown",
   "id": "4a958717-44c4-4148-a383-ee7555bc0aef",
   "metadata": {},
   "source": [
    "#### 3. Define a function named stem. It should accept some text and return the text after applying stemming to all the words."
   ]
  },
  {
   "cell_type": "code",
   "execution_count": 12,
   "id": "4182218f-407a-48a5-859e-5d41ef963788",
   "metadata": {},
   "outputs": [],
   "source": [
    "def stem(text):\n",
    "    ps = nltk.porter.PorterStemmer()\n",
    "    stems = [ps.stem(word) for word in text.split(' ')]\n",
    "    stemmed = ' '.join(stems)\n",
    "    return stemmed"
   ]
  },
  {
   "cell_type": "code",
   "execution_count": 19,
   "id": "c0b88f4c-3cdf-4a81-87d2-7482b3ae8665",
   "metadata": {},
   "outputs": [
    {
     "data": {
      "text/plain": [
       "'codeup is excit to launch our first divers equiti and inclus dei report in over eight year as an organ weve implement polici and grown our dei effort we are extrem proud of the progress weve made as a staff and codeup commun and we recogn there is more to learn thi report captur some of the way that weve live our valu of cultiv inclus growth and how we will continu do so as we look to the future\\nw want to shine a light on the demograph of our student and staff and in particular how that compar to the tech industri as a whole how we collect organ and share employe demograph data is inform by standard set by the equal employ opportun commiss eeoc\\nw are proud to celebr how weve grown and are motiv and commit to do more and be better to view the report visit the link here or download it below'"
      ]
     },
     "execution_count": 19,
     "metadata": {},
     "output_type": "execute_result"
    }
   ],
   "source": [
    "s = stem(t)\n",
    "s"
   ]
  },
  {
   "cell_type": "markdown",
   "id": "b9ab9eba-e199-4028-b35c-ce1474b4719e",
   "metadata": {},
   "source": [
    "#### 4. Define a function named lemmatize. It should accept some text and return the text after applying lemmatization to each word."
   ]
  },
  {
   "cell_type": "code",
   "execution_count": 15,
   "id": "b24d6ecf-e40b-47e6-896d-44a194a93290",
   "metadata": {},
   "outputs": [],
   "source": [
    "def lemmatize(text):\n",
    "    wnl = nltk.stem.WordNetLemmatizer()\n",
    "    lemons = [wnl.lemmatize(word) for word in text.split(' ')]\n",
    "    lemmatized = ' '.join(lemons)\n",
    "    return lemmatized"
   ]
  },
  {
   "cell_type": "code",
   "execution_count": 18,
   "id": "552f6de9-aaaf-4610-b09f-18847c807f29",
   "metadata": {},
   "outputs": [
    {
     "data": {
      "text/plain": [
       "'codeup is excited to launch our first diversity equity and inclusion dei report in over eight year a an organization weve implemented policy and grown our dei effort we are extremely proud of the progress weve made a a staff and codeup community and we recognize there is more to learn this report capture some of the way that weve lived our value of cultivating inclusive growth and how we will continue doing so a we look to the future\\nwe wanted to shine a light on the demographic of our student and staff and in particular how that compare to the tech industry a a whole how we collect organize and share employee demographic data is informed by standard set by the equal employment opportunity commission eeoc\\nwe are proud to celebrate how weve grown and are motivated and committed to do more and be better to view the report visit the link here or download it below'"
      ]
     },
     "execution_count": 18,
     "metadata": {},
     "output_type": "execute_result"
    }
   ],
   "source": [
    "l = lemmatize(t)\n",
    "l"
   ]
  },
  {
   "cell_type": "markdown",
   "id": "56f1a614-405f-49eb-ae27-d37e2fd65742",
   "metadata": {},
   "source": [
    "#### 5. Define a function named remove_stopwords. It should accept some text and return the text after removing all the stopwords.\n",
    "- This function should define two optional parameters, extra_words and exclude_words. These parameters should define any additional stop words to include, and any words that we don't want to remove."
   ]
  },
  {
   "cell_type": "code",
   "execution_count": 26,
   "id": "f397c9a4-9d5f-4bab-a1fc-91e2bb421532",
   "metadata": {},
   "outputs": [],
   "source": [
    "def remove_stopwords(text, extra_words=[], exclude_words=[]):\n",
    "    words = text.split(' ')\n",
    "    stopwords_list = stopwords.words('english')\n",
    "    if len(extra_words) > 0:\n",
    "        stopwords_list.extend(extra_words)\n",
    "    if len(exclude_words) > 0:\n",
    "        [stopwords_list.remove(w) for w in exclude_words]\n",
    "    filtered_words = [word for word in words if word not in stopwords_list]\n",
    "    return ' '.join(filtered_words)"
   ]
  },
  {
   "cell_type": "code",
   "execution_count": 28,
   "id": "83f39105-d3cf-4675-a14f-cbf4f13c743b",
   "metadata": {},
   "outputs": [
    {
     "data": {
      "text/plain": [
       "'is to launch first diversity equity inclusion dei report eight year organization weve implemented policy grown dei effort extremely proud progress weve made staff community recognize is to learn report capture way weve lived value cultivating inclusive growth continue look to future\\nwe wanted to shine light demographic student staff particular compare to tech industry whole collect organize share employee demographic data is informed standard set equal employment opportunity commission eeoc\\nwe proud to celebrate weve grown motivated committed to better to view report visit link download'"
      ]
     },
     "execution_count": 28,
     "metadata": {},
     "output_type": "execute_result"
    }
   ],
   "source": [
    "remove_stopwords(l, ['codeup', 'excited'], ['is', 'to'])"
   ]
  },
  {
   "cell_type": "markdown",
   "id": "f1ba6c27-5271-44aa-9163-7fdeb21b4396",
   "metadata": {},
   "source": [
    "#### 6. Use your data from the acquire to produce a dataframe of the news articles. Name the dataframe news_df."
   ]
  },
  {
   "cell_type": "code",
   "execution_count": 93,
   "id": "205d4141-78ed-493c-b2e7-b4a86a00013b",
   "metadata": {},
   "outputs": [
    {
     "name": "stderr",
     "output_type": "stream",
     "text": [
      "/Users/morgancross/codeup-data-science/natural-language-processing-exercises/acquire.py:22: GuessedAtParserWarning: No parser was explicitly specified, so I'm using the best available HTML parser for this system (\"lxml\"). This usually isn't a problem, but if you run this code on another system, or in a different virtual environment, it may use a different parser and behave differently.\n",
      "\n",
      "The code that caused this warning is on line 22 of the file /Users/morgancross/codeup-data-science/natural-language-processing-exercises/acquire.py. To get rid of this warning, pass the additional argument 'features=\"lxml\"' to the BeautifulSoup constructor.\n",
      "\n",
      "  soup = BeautifulSoup(requests.get(url).content)\n",
      "/Users/morgancross/codeup-data-science/natural-language-processing-exercises/acquire.py:31: GuessedAtParserWarning: No parser was explicitly specified, so I'm using the best available HTML parser for this system (\"lxml\"). This usually isn't a problem, but if you run this code on another system, or in a different virtual environment, it may use a different parser and behave differently.\n",
      "\n",
      "The code that caused this warning is on line 31 of the file /Users/morgancross/codeup-data-science/natural-language-processing-exercises/acquire.py. To get rid of this warning, pass the additional argument 'features=\"lxml\"' to the BeautifulSoup constructor.\n",
      "\n",
      "  cat_soup = BeautifulSoup(requests.get(cat_url).content)\n"
     ]
    }
   ],
   "source": [
    "news_df = acquire.get_news_articles()"
   ]
  },
  {
   "cell_type": "markdown",
   "id": "bfc1d67e-854c-4ec5-8bb2-90e24c144264",
   "metadata": {},
   "source": [
    "#### 7. Make another dataframe for the Codeup blog posts. Name the dataframe codeup_df."
   ]
  },
  {
   "cell_type": "code",
   "execution_count": 94,
   "id": "02cb1d5e-c7d6-466c-85c8-38cbcc5d3cb9",
   "metadata": {},
   "outputs": [
    {
     "name": "stderr",
     "output_type": "stream",
     "text": [
      "/Users/morgancross/codeup-data-science/natural-language-processing-exercises/acquire.py:15: GuessedAtParserWarning: No parser was explicitly specified, so I'm using the best available HTML parser for this system (\"lxml\"). This usually isn't a problem, but if you run this code on another system, or in a different virtual environment, it may use a different parser and behave differently.\n",
      "\n",
      "The code that caused this warning is on line 15 of the file /Users/morgancross/codeup-data-science/natural-language-processing-exercises/acquire.py. To get rid of this warning, pass the additional argument 'features=\"lxml\"' to the BeautifulSoup constructor.\n",
      "\n",
      "  article_soup = BeautifulSoup(requests.get(blog, headers=header).content)\n"
     ]
    }
   ],
   "source": [
    "codeup_df = acquire.get_blog_articles()"
   ]
  },
  {
   "cell_type": "markdown",
   "id": "cd607773-99b2-4c9a-b8e9-e4fb52fd04b5",
   "metadata": {},
   "source": [
    "#### 8. For each dataframe, produce the following columns:\n",
    "- title to hold the title\n",
    "- original to hold the original article/post content\n",
    "- clean to hold the normalized and tokenized original with the stopwords removed.\n",
    "- stemmed to hold the stemmed version of the cleaned data.\n",
    "- lemmatized to hold the lemmatized version of the cleaned data."
   ]
  },
  {
   "cell_type": "code",
   "execution_count": 86,
   "id": "350bc8d8-7cd4-495f-9fcd-94290083a61b",
   "metadata": {},
   "outputs": [],
   "source": [
    "def clean_df_prep_exercise(df, extra_words=[], exclude_words=[]):\n",
    "    d = df.copy()\n",
    "    d = d.rename(columns={'content':'content_original'})\n",
    "    d['content_clean'] = [remove_stopwords(tokenize(basic_clean(entry)), extra_words, exclude_words) for entry in d.content_original]\n",
    "    d['content_stemmed'] = clean_data(d.content_original, 'stemming', extra_words, exclude_words)\n",
    "    d['content_lemmatized'] = clean_data(d.content_original, 'lemmatize', extra_words, exclude_words)\n",
    "    return d"
   ]
  },
  {
   "cell_type": "code",
   "execution_count": 91,
   "id": "de10e037-9a93-40e6-945c-f9503658f7bb",
   "metadata": {},
   "outputs": [],
   "source": [
    "news_df = clean_df_prep_exercise(news)"
   ]
  },
  {
   "cell_type": "code",
   "execution_count": 92,
   "id": "d87f1ab4-fceb-4960-9e5f-5c54d84aa658",
   "metadata": {},
   "outputs": [
    {
     "data": {
      "text/html": [
       "<div>\n",
       "<style scoped>\n",
       "    .dataframe tbody tr th:only-of-type {\n",
       "        vertical-align: middle;\n",
       "    }\n",
       "\n",
       "    .dataframe tbody tr th {\n",
       "        vertical-align: top;\n",
       "    }\n",
       "\n",
       "    .dataframe thead th {\n",
       "        text-align: right;\n",
       "    }\n",
       "</style>\n",
       "<table border=\"1\" class=\"dataframe\">\n",
       "  <thead>\n",
       "    <tr style=\"text-align: right;\">\n",
       "      <th></th>\n",
       "      <th>title</th>\n",
       "      <th>content_original</th>\n",
       "      <th>category</th>\n",
       "      <th>content_clean</th>\n",
       "      <th>content_stemmed</th>\n",
       "      <th>content_lemmatized</th>\n",
       "    </tr>\n",
       "  </thead>\n",
       "  <tbody>\n",
       "    <tr>\n",
       "      <th>0</th>\n",
       "      <td>Infosys Gifts Sikka Shares Worth Rs 8.2cr</td>\n",
       "      <td>In a regulatory filing to the BSE on Friday, I...</td>\n",
       "      <td>india</td>\n",
       "      <td>regulatory filing bse friday infosys ltd decid...</td>\n",
       "      <td>regulatori file bse friday infosi ltd decid gi...</td>\n",
       "      <td>regulatory filing bse friday infosys ltd decid...</td>\n",
       "    </tr>\n",
       "    <tr>\n",
       "      <th>1</th>\n",
       "      <td>Oldest woman in India passes away</td>\n",
       "      <td>Kunjannam, a 112-yr-old woman from Parannur (K...</td>\n",
       "      <td>india</td>\n",
       "      <td>kunjannam 112yrold woman parannur kerala decla...</td>\n",
       "      <td>kunjannam 112yrold woman parannur kerala wa de...</td>\n",
       "      <td>kunjannam 112yrold woman parannur kerala wa de...</td>\n",
       "    </tr>\n",
       "    <tr>\n",
       "      <th>2</th>\n",
       "      <td>Kashmir's famous Dal Lake freezes</td>\n",
       "      <td>After the recent snowfall in upper reaches of ...</td>\n",
       "      <td>india</td>\n",
       "      <td>recent snowfall upper reaches kashmir himalaya...</td>\n",
       "      <td>recent snowfal upper reach kashmir himalayan p...</td>\n",
       "      <td>recent snowfall upper reach kashmir himalayan ...</td>\n",
       "    </tr>\n",
       "    <tr>\n",
       "      <th>3</th>\n",
       "      <td>Bharti Airtel rakes in 61% profit</td>\n",
       "      <td>Bharti Airtel, India's top telecommunications ...</td>\n",
       "      <td>india</td>\n",
       "      <td>bharti airtel india ' top telecommunications c...</td>\n",
       "      <td>bharti airtel india ' top telecommun compani h...</td>\n",
       "      <td>bharti airtel india ' top telecommunication co...</td>\n",
       "    </tr>\n",
       "    <tr>\n",
       "      <th>4</th>\n",
       "      <td>Indian Navy gets VLF, easy communication with ...</td>\n",
       "      <td>The Indian navy has a new communication system...</td>\n",
       "      <td>india</td>\n",
       "      <td>indian navy new communication system critical ...</td>\n",
       "      <td>indian navi ha new commun system critic pass c...</td>\n",
       "      <td>indian navy ha new communication system critic...</td>\n",
       "    </tr>\n",
       "  </tbody>\n",
       "</table>\n",
       "</div>"
      ],
      "text/plain": [
       "                                               title  \\\n",
       "0          Infosys Gifts Sikka Shares Worth Rs 8.2cr   \n",
       "1                  Oldest woman in India passes away   \n",
       "2                  Kashmir's famous Dal Lake freezes   \n",
       "3                  Bharti Airtel rakes in 61% profit   \n",
       "4  Indian Navy gets VLF, easy communication with ...   \n",
       "\n",
       "                                    content_original category  \\\n",
       "0  In a regulatory filing to the BSE on Friday, I...    india   \n",
       "1  Kunjannam, a 112-yr-old woman from Parannur (K...    india   \n",
       "2  After the recent snowfall in upper reaches of ...    india   \n",
       "3  Bharti Airtel, India's top telecommunications ...    india   \n",
       "4  The Indian navy has a new communication system...    india   \n",
       "\n",
       "                                       content_clean  \\\n",
       "0  regulatory filing bse friday infosys ltd decid...   \n",
       "1  kunjannam 112yrold woman parannur kerala decla...   \n",
       "2  recent snowfall upper reaches kashmir himalaya...   \n",
       "3  bharti airtel india ' top telecommunications c...   \n",
       "4  indian navy new communication system critical ...   \n",
       "\n",
       "                                     content_stemmed  \\\n",
       "0  regulatori file bse friday infosi ltd decid gi...   \n",
       "1  kunjannam 112yrold woman parannur kerala wa de...   \n",
       "2  recent snowfal upper reach kashmir himalayan p...   \n",
       "3  bharti airtel india ' top telecommun compani h...   \n",
       "4  indian navi ha new commun system critic pass c...   \n",
       "\n",
       "                                  content_lemmatized  \n",
       "0  regulatory filing bse friday infosys ltd decid...  \n",
       "1  kunjannam 112yrold woman parannur kerala wa de...  \n",
       "2  recent snowfall upper reach kashmir himalayan ...  \n",
       "3  bharti airtel india ' top telecommunication co...  \n",
       "4  indian navy ha new communication system critic...  "
      ]
     },
     "execution_count": 92,
     "metadata": {},
     "output_type": "execute_result"
    }
   ],
   "source": [
    "news_df.head()"
   ]
  },
  {
   "cell_type": "markdown",
   "id": "4e44d4ce-1175-426b-a1b4-b2be73bead0e",
   "metadata": {},
   "source": [
    "#### 9. Ask yourself:\n",
    "1. If your corpus is 493KB, would you prefer to use stemmed or lemmatized text?\n",
    "    - lemmatize, relatively small dataset, not computationally expensive to lemmatize the whole thing\n",
    "2. If your corpus is 25MB, would you prefer to use stemmed or lemmatized text?\n",
    "    - depends. this could go either way depending on time allowed, computational resources, and project needs\n",
    "3. If your corpus is 200TB of text and you're charged by the megabyte for your hosted computational resources, would you prefer to use stemmed or lemmatized text?\n",
    "    - stemming, massive dataset that is both computationally and monetarily expensive to try and lemmatize"
   ]
  },
  {
   "cell_type": "markdown",
   "id": "d859c822-c58f-4ece-8f29-316674731082",
   "metadata": {},
   "source": [
    "---\n",
    "#### Make it more modular!"
   ]
  },
  {
   "cell_type": "code",
   "execution_count": 54,
   "id": "f3bced41-571a-4965-8ffa-386b043e89ad",
   "metadata": {},
   "outputs": [],
   "source": [
    "def clean_data(col, method='lemmatize', extra_words=[], exclude_words=[]):\n",
    "    bc = [basic_clean(entry) for entry in col]   \n",
    "    t = [tokenize(entry) for entry in bc]\n",
    "    if method == 'lemmatize':\n",
    "        l = [lemmatize(entry) for entry in t]\n",
    "        return [remove_stopwords(entry, extra_words, exclude_words) for entry in l]\n",
    "    if method == 'stemming':\n",
    "        s = [stem(entry) for entry in t]\n",
    "        return [remove_stopwords(entry, extra_words, exclude_words) for entry in s]"
   ]
  },
  {
   "cell_type": "code",
   "execution_count": 55,
   "id": "8ce2b4d3-0ad4-43d7-ac4a-c4997defeafa",
   "metadata": {},
   "outputs": [
    {
     "data": {
      "text/plain": [
       "'ha named 2022 diversity inclusion award winner san antonio business journal\\nwe thrilled among take pride ensuring diversity equity inclusion dei priority work environments\\nto learn effort please check dei report 2022'"
      ]
     },
     "execution_count": 55,
     "metadata": {},
     "output_type": "execute_result"
    }
   ],
   "source": [
    "clean_data(blogs.content, extra_words=['codeup'], exclude_words=['is'])[1]"
   ]
  },
  {
   "cell_type": "code",
   "execution_count": 81,
   "id": "2e5b71b0-86d6-4bba-9cd6-b72d1e00a12b",
   "metadata": {},
   "outputs": [],
   "source": [
    "def clean_df(df, cols_to_clean, method='lemmatize', extra_words=[], exclude_words=[]):\n",
    "    d = df.copy()\n",
    "    for col in cols_to_clean:\n",
    "        d[col+'_clean'] = clean_data(d[col], method, extra_words, exclude_words)\n",
    "    return d"
   ]
  },
  {
   "cell_type": "code",
   "execution_count": 70,
   "id": "91d043f1-707a-47a6-948c-7baefa697f1e",
   "metadata": {},
   "outputs": [
    {
     "data": {
      "text/plain": [
       "Index(['title', 'content'], dtype='object')"
      ]
     },
     "execution_count": 70,
     "metadata": {},
     "output_type": "execute_result"
    }
   ],
   "source": [
    "blogs.columns"
   ]
  },
  {
   "cell_type": "code",
   "execution_count": 71,
   "id": "42aa89da-58dd-418a-80c0-9393c7fe5da4",
   "metadata": {},
   "outputs": [
    {
     "data": {
      "text/plain": [
       "['diversity equity inclusion report',\n",
       " 'codeup honored sabj diversity inclusion award winner',\n",
       " 'finance career transition',\n",
       " 'tip woman beginning career tech',\n",
       " 'cloud computing aws',\n",
       " '2022 sabj csuite award winner stephen noteboom']"
      ]
     },
     "execution_count": 71,
     "metadata": {},
     "output_type": "execute_result"
    }
   ],
   "source": [
    "clean_data(blogs.title)"
   ]
  },
  {
   "cell_type": "code",
   "execution_count": 76,
   "id": "1432abe3-58d2-4408-a33d-5b91f5c9b7ab",
   "metadata": {},
   "outputs": [
    {
     "data": {
      "text/html": [
       "<div>\n",
       "<style scoped>\n",
       "    .dataframe tbody tr th:only-of-type {\n",
       "        vertical-align: middle;\n",
       "    }\n",
       "\n",
       "    .dataframe tbody tr th {\n",
       "        vertical-align: top;\n",
       "    }\n",
       "\n",
       "    .dataframe thead th {\n",
       "        text-align: right;\n",
       "    }\n",
       "</style>\n",
       "<table border=\"1\" class=\"dataframe\">\n",
       "  <thead>\n",
       "    <tr style=\"text-align: right;\">\n",
       "      <th></th>\n",
       "      <th>title</th>\n",
       "      <th>content</th>\n",
       "      <th>title_clean</th>\n",
       "      <th>content_clean</th>\n",
       "    </tr>\n",
       "  </thead>\n",
       "  <tbody>\n",
       "    <tr>\n",
       "      <th>0</th>\n",
       "      <td>Diversity Equity and Inclusion Report</td>\n",
       "      <td>Codeup is excited to launch our first Diversit...</td>\n",
       "      <td>divers equiti inclus report</td>\n",
       "      <td>codeup excit launch first divers equiti inclus...</td>\n",
       "    </tr>\n",
       "    <tr>\n",
       "      <th>1</th>\n",
       "      <td>Codeup Honored as SABJ Diversity and Inclusion...</td>\n",
       "      <td>Codeup has been named the 2022 Diversity and I...</td>\n",
       "      <td>codeup honor sabj divers inclus award winner</td>\n",
       "      <td>codeup ha name 2022 divers inclus award winner...</td>\n",
       "    </tr>\n",
       "    <tr>\n",
       "      <th>2</th>\n",
       "      <td>How Can I Finance My Career Transition?</td>\n",
       "      <td>Deciding to transition into a tech career is a...</td>\n",
       "      <td>financ career transit</td>\n",
       "      <td>decid transit tech career big step signific co...</td>\n",
       "    </tr>\n",
       "    <tr>\n",
       "      <th>3</th>\n",
       "      <td>Tips for Women Beginning a Career in Tech</td>\n",
       "      <td>Codeup strongly values diversity, and inclusio...</td>\n",
       "      <td>tip women begin career tech</td>\n",
       "      <td>codeup strongli valu divers inclus honor ameri...</td>\n",
       "    </tr>\n",
       "    <tr>\n",
       "      <th>4</th>\n",
       "      <td>What is Cloud Computing and AWS?</td>\n",
       "      <td>With many companies switching to cloud service...</td>\n",
       "      <td>cloud comput aw</td>\n",
       "      <td>mani compani switch cloud servic implement clo...</td>\n",
       "    </tr>\n",
       "    <tr>\n",
       "      <th>5</th>\n",
       "      <td>2022 SABJ C-Suite Award Winner: Stephen Noteboom</td>\n",
       "      <td>Codeup’s Chief Operating Officer, Stephen Note...</td>\n",
       "      <td>2022 sabj csuit award winner stephen noteboom</td>\n",
       "      <td>codeup chief oper offic stephen noteboom ha 20...</td>\n",
       "    </tr>\n",
       "  </tbody>\n",
       "</table>\n",
       "</div>"
      ],
      "text/plain": [
       "                                               title  \\\n",
       "0              Diversity Equity and Inclusion Report   \n",
       "1  Codeup Honored as SABJ Diversity and Inclusion...   \n",
       "2            How Can I Finance My Career Transition?   \n",
       "3          Tips for Women Beginning a Career in Tech   \n",
       "4                   What is Cloud Computing and AWS?   \n",
       "5   2022 SABJ C-Suite Award Winner: Stephen Noteboom   \n",
       "\n",
       "                                             content  \\\n",
       "0  Codeup is excited to launch our first Diversit...   \n",
       "1  Codeup has been named the 2022 Diversity and I...   \n",
       "2  Deciding to transition into a tech career is a...   \n",
       "3  Codeup strongly values diversity, and inclusio...   \n",
       "4  With many companies switching to cloud service...   \n",
       "5  Codeup’s Chief Operating Officer, Stephen Note...   \n",
       "\n",
       "                                     title_clean  \\\n",
       "0                    divers equiti inclus report   \n",
       "1   codeup honor sabj divers inclus award winner   \n",
       "2                          financ career transit   \n",
       "3                    tip women begin career tech   \n",
       "4                                cloud comput aw   \n",
       "5  2022 sabj csuit award winner stephen noteboom   \n",
       "\n",
       "                                       content_clean  \n",
       "0  codeup excit launch first divers equiti inclus...  \n",
       "1  codeup ha name 2022 divers inclus award winner...  \n",
       "2  decid transit tech career big step signific co...  \n",
       "3  codeup strongli valu divers inclus honor ameri...  \n",
       "4  mani compani switch cloud servic implement clo...  \n",
       "5  codeup chief oper offic stephen noteboom ha 20...  "
      ]
     },
     "execution_count": 76,
     "metadata": {},
     "output_type": "execute_result"
    }
   ],
   "source": [
    "clean_df(blogs,['title', 'content'], 'stemming')"
   ]
  },
  {
   "cell_type": "code",
   "execution_count": 78,
   "id": "f2ca62b3-81cc-4d38-b317-608433361a4b",
   "metadata": {},
   "outputs": [
    {
     "data": {
      "text/html": [
       "<div>\n",
       "<style scoped>\n",
       "    .dataframe tbody tr th:only-of-type {\n",
       "        vertical-align: middle;\n",
       "    }\n",
       "\n",
       "    .dataframe tbody tr th {\n",
       "        vertical-align: top;\n",
       "    }\n",
       "\n",
       "    .dataframe thead th {\n",
       "        text-align: right;\n",
       "    }\n",
       "</style>\n",
       "<table border=\"1\" class=\"dataframe\">\n",
       "  <thead>\n",
       "    <tr style=\"text-align: right;\">\n",
       "      <th></th>\n",
       "      <th>title</th>\n",
       "      <th>content</th>\n",
       "      <th>category</th>\n",
       "      <th>title_clean</th>\n",
       "      <th>content_clean</th>\n",
       "    </tr>\n",
       "  </thead>\n",
       "  <tbody>\n",
       "    <tr>\n",
       "      <th>0</th>\n",
       "      <td>Infosys Gifts Sikka Shares Worth Rs 8.2cr</td>\n",
       "      <td>In a regulatory filing to the BSE on Friday, I...</td>\n",
       "      <td>india</td>\n",
       "      <td>infosys gift sikka share worth r 82cr</td>\n",
       "      <td>regulatory filing bse friday infosys ltd decid...</td>\n",
       "    </tr>\n",
       "    <tr>\n",
       "      <th>1</th>\n",
       "      <td>Oldest woman in India passes away</td>\n",
       "      <td>Kunjannam, a 112-yr-old woman from Parannur (K...</td>\n",
       "      <td>india</td>\n",
       "      <td>oldest woman india pass away</td>\n",
       "      <td>kunjannam 112yrold woman parannur kerala wa de...</td>\n",
       "    </tr>\n",
       "    <tr>\n",
       "      <th>2</th>\n",
       "      <td>Kashmir's famous Dal Lake freezes</td>\n",
       "      <td>After the recent snowfall in upper reaches of ...</td>\n",
       "      <td>india</td>\n",
       "      <td>kashmir ' famous dal lake freeze</td>\n",
       "      <td>recent snowfall upper reach kashmir himalayan ...</td>\n",
       "    </tr>\n",
       "    <tr>\n",
       "      <th>3</th>\n",
       "      <td>Bharti Airtel rakes in 61% profit</td>\n",
       "      <td>Bharti Airtel, India's top telecommunications ...</td>\n",
       "      <td>india</td>\n",
       "      <td>bharti airtel rake 61 profit</td>\n",
       "      <td>bharti airtel india ' top telecommunication co...</td>\n",
       "    </tr>\n",
       "    <tr>\n",
       "      <th>4</th>\n",
       "      <td>Indian Navy gets VLF, easy communication with ...</td>\n",
       "      <td>The Indian navy has a new communication system...</td>\n",
       "      <td>india</td>\n",
       "      <td>indian navy get vlf easy communication underwa...</td>\n",
       "      <td>indian navy ha new communication system critic...</td>\n",
       "    </tr>\n",
       "    <tr>\n",
       "      <th>...</th>\n",
       "      <td>...</td>\n",
       "      <td>...</td>\n",
       "      <td>...</td>\n",
       "      <td>...</td>\n",
       "      <td>...</td>\n",
       "    </tr>\n",
       "    <tr>\n",
       "      <th>280</th>\n",
       "      <td>Amazon-backed Rivian's shares fall 9% after it...</td>\n",
       "      <td>Amazon-backed EV-maker Rivian on Friday recall...</td>\n",
       "      <td>automobile</td>\n",
       "      <td>amazonbacked rivian ' share fall 9 recall ev</td>\n",
       "      <td>amazonbacked evmaker rivian friday recalled ne...</td>\n",
       "    </tr>\n",
       "    <tr>\n",
       "      <th>281</th>\n",
       "      <td>Vintage cars on display to promote wildlife pr...</td>\n",
       "      <td>To create awareness about wildlife week, the K...</td>\n",
       "      <td>automobile</td>\n",
       "      <td>vintage car display promote wildlife protectio...</td>\n",
       "      <td>create awareness wildlife week karnataka fores...</td>\n",
       "    </tr>\n",
       "    <tr>\n",
       "      <th>282</th>\n",
       "      <td>Vehicle registrations during festivals doubled...</td>\n",
       "      <td>Vehicle registrations more than doubled in thi...</td>\n",
       "      <td>automobile</td>\n",
       "      <td>vehicle registration festival doubled compared...</td>\n",
       "      <td>vehicle registration doubled year ' navratri d...</td>\n",
       "    </tr>\n",
       "    <tr>\n",
       "      <th>283</th>\n",
       "      <td>Tesla to remove more sensors from cars amid au...</td>\n",
       "      <td>As Tesla faces autopilot scrutiny, it will onl...</td>\n",
       "      <td>automobile</td>\n",
       "      <td>tesla remove sensor car amid autopilot scrutiny</td>\n",
       "      <td>tesla face autopilot scrutiny use camera safet...</td>\n",
       "    </tr>\n",
       "    <tr>\n",
       "      <th>284</th>\n",
       "      <td>Car rental startup Zoomcar may go public via S...</td>\n",
       "      <td>Bengaluru-based car rental startup Zoomcar has...</td>\n",
       "      <td>automobile</td>\n",
       "      <td>car rental startup zoomcar may go public via s...</td>\n",
       "      <td>bengalurubased car rental startup zoomcar ha r...</td>\n",
       "    </tr>\n",
       "  </tbody>\n",
       "</table>\n",
       "<p>285 rows × 5 columns</p>\n",
       "</div>"
      ],
      "text/plain": [
       "                                                 title  \\\n",
       "0            Infosys Gifts Sikka Shares Worth Rs 8.2cr   \n",
       "1                    Oldest woman in India passes away   \n",
       "2                    Kashmir's famous Dal Lake freezes   \n",
       "3                    Bharti Airtel rakes in 61% profit   \n",
       "4    Indian Navy gets VLF, easy communication with ...   \n",
       "..                                                 ...   \n",
       "280  Amazon-backed Rivian's shares fall 9% after it...   \n",
       "281  Vintage cars on display to promote wildlife pr...   \n",
       "282  Vehicle registrations during festivals doubled...   \n",
       "283  Tesla to remove more sensors from cars amid au...   \n",
       "284  Car rental startup Zoomcar may go public via S...   \n",
       "\n",
       "                                               content    category  \\\n",
       "0    In a regulatory filing to the BSE on Friday, I...       india   \n",
       "1    Kunjannam, a 112-yr-old woman from Parannur (K...       india   \n",
       "2    After the recent snowfall in upper reaches of ...       india   \n",
       "3    Bharti Airtel, India's top telecommunications ...       india   \n",
       "4    The Indian navy has a new communication system...       india   \n",
       "..                                                 ...         ...   \n",
       "280  Amazon-backed EV-maker Rivian on Friday recall...  automobile   \n",
       "281  To create awareness about wildlife week, the K...  automobile   \n",
       "282  Vehicle registrations more than doubled in thi...  automobile   \n",
       "283  As Tesla faces autopilot scrutiny, it will onl...  automobile   \n",
       "284  Bengaluru-based car rental startup Zoomcar has...  automobile   \n",
       "\n",
       "                                           title_clean  \\\n",
       "0                infosys gift sikka share worth r 82cr   \n",
       "1                         oldest woman india pass away   \n",
       "2                     kashmir ' famous dal lake freeze   \n",
       "3                         bharti airtel rake 61 profit   \n",
       "4    indian navy get vlf easy communication underwa...   \n",
       "..                                                 ...   \n",
       "280       amazonbacked rivian ' share fall 9 recall ev   \n",
       "281  vintage car display promote wildlife protectio...   \n",
       "282  vehicle registration festival doubled compared...   \n",
       "283    tesla remove sensor car amid autopilot scrutiny   \n",
       "284  car rental startup zoomcar may go public via s...   \n",
       "\n",
       "                                         content_clean  \n",
       "0    regulatory filing bse friday infosys ltd decid...  \n",
       "1    kunjannam 112yrold woman parannur kerala wa de...  \n",
       "2    recent snowfall upper reach kashmir himalayan ...  \n",
       "3    bharti airtel india ' top telecommunication co...  \n",
       "4    indian navy ha new communication system critic...  \n",
       "..                                                 ...  \n",
       "280  amazonbacked evmaker rivian friday recalled ne...  \n",
       "281  create awareness wildlife week karnataka fores...  \n",
       "282  vehicle registration doubled year ' navratri d...  \n",
       "283  tesla face autopilot scrutiny use camera safet...  \n",
       "284  bengalurubased car rental startup zoomcar ha r...  \n",
       "\n",
       "[285 rows x 5 columns]"
      ]
     },
     "execution_count": 78,
     "metadata": {},
     "output_type": "execute_result"
    }
   ],
   "source": [
    "clean_df(news, ['title', 'content'])"
   ]
  },
  {
   "cell_type": "markdown",
   "id": "2d85c58f-839f-4d74-b629-da6f00d7ad5b",
   "metadata": {},
   "source": [
    "---"
   ]
  },
  {
   "cell_type": "markdown",
   "id": "fb4d681e-6869-4b0a-9141-183429c6b376",
   "metadata": {},
   "source": [
    "#### Test prepare"
   ]
  },
  {
   "cell_type": "code",
   "execution_count": 87,
   "id": "23af6abb-d10a-4061-b1bd-d88108fab206",
   "metadata": {},
   "outputs": [],
   "source": [
    "import prepare"
   ]
  },
  {
   "cell_type": "code",
   "execution_count": 88,
   "id": "d7c45cf6-ad8b-4f44-aede-dc5b9d590e27",
   "metadata": {},
   "outputs": [
    {
     "data": {
      "text/html": [
       "<div>\n",
       "<style scoped>\n",
       "    .dataframe tbody tr th:only-of-type {\n",
       "        vertical-align: middle;\n",
       "    }\n",
       "\n",
       "    .dataframe tbody tr th {\n",
       "        vertical-align: top;\n",
       "    }\n",
       "\n",
       "    .dataframe thead th {\n",
       "        text-align: right;\n",
       "    }\n",
       "</style>\n",
       "<table border=\"1\" class=\"dataframe\">\n",
       "  <thead>\n",
       "    <tr style=\"text-align: right;\">\n",
       "      <th></th>\n",
       "      <th>title</th>\n",
       "      <th>content_original</th>\n",
       "      <th>content_clean</th>\n",
       "      <th>content_stemmed</th>\n",
       "      <th>content_lemmatized</th>\n",
       "    </tr>\n",
       "  </thead>\n",
       "  <tbody>\n",
       "    <tr>\n",
       "      <th>0</th>\n",
       "      <td>Diversity Equity and Inclusion Report</td>\n",
       "      <td>Codeup is excited to launch our first Diversit...</td>\n",
       "      <td>codeup excited launch first diversity equity i...</td>\n",
       "      <td>codeup excit launch first divers equiti inclus...</td>\n",
       "      <td>codeup excited launch first diversity equity i...</td>\n",
       "    </tr>\n",
       "    <tr>\n",
       "      <th>1</th>\n",
       "      <td>Codeup Honored as SABJ Diversity and Inclusion...</td>\n",
       "      <td>Codeup has been named the 2022 Diversity and I...</td>\n",
       "      <td>codeup named 2022 diversity inclusion award wi...</td>\n",
       "      <td>codeup ha name 2022 divers inclus award winner...</td>\n",
       "      <td>codeup ha named 2022 diversity inclusion award...</td>\n",
       "    </tr>\n",
       "    <tr>\n",
       "      <th>2</th>\n",
       "      <td>How Can I Finance My Career Transition?</td>\n",
       "      <td>Deciding to transition into a tech career is a...</td>\n",
       "      <td>deciding transition tech career big step signi...</td>\n",
       "      <td>decid transit tech career big step signific co...</td>\n",
       "      <td>deciding transition tech career big step signi...</td>\n",
       "    </tr>\n",
       "    <tr>\n",
       "      <th>3</th>\n",
       "      <td>Tips for Women Beginning a Career in Tech</td>\n",
       "      <td>Codeup strongly values diversity, and inclusio...</td>\n",
       "      <td>codeup strongly values diversity inclusion hon...</td>\n",
       "      <td>codeup strongli valu divers inclus honor ameri...</td>\n",
       "      <td>codeup strongly value diversity inclusion hono...</td>\n",
       "    </tr>\n",
       "    <tr>\n",
       "      <th>4</th>\n",
       "      <td>What is Cloud Computing and AWS?</td>\n",
       "      <td>With many companies switching to cloud service...</td>\n",
       "      <td>many companies switching cloud services implem...</td>\n",
       "      <td>mani compani switch cloud servic implement clo...</td>\n",
       "      <td>many company switching cloud service implement...</td>\n",
       "    </tr>\n",
       "    <tr>\n",
       "      <th>5</th>\n",
       "      <td>2022 SABJ C-Suite Award Winner: Stephen Noteboom</td>\n",
       "      <td>Codeup’s Chief Operating Officer, Stephen Note...</td>\n",
       "      <td>codeups chief operating officer stephen notebo...</td>\n",
       "      <td>codeup chief oper offic stephen noteboom ha 20...</td>\n",
       "      <td>codeups chief operating officer stephen notebo...</td>\n",
       "    </tr>\n",
       "  </tbody>\n",
       "</table>\n",
       "</div>"
      ],
      "text/plain": [
       "                                               title  \\\n",
       "0              Diversity Equity and Inclusion Report   \n",
       "1  Codeup Honored as SABJ Diversity and Inclusion...   \n",
       "2            How Can I Finance My Career Transition?   \n",
       "3          Tips for Women Beginning a Career in Tech   \n",
       "4                   What is Cloud Computing and AWS?   \n",
       "5   2022 SABJ C-Suite Award Winner: Stephen Noteboom   \n",
       "\n",
       "                                    content_original  \\\n",
       "0  Codeup is excited to launch our first Diversit...   \n",
       "1  Codeup has been named the 2022 Diversity and I...   \n",
       "2  Deciding to transition into a tech career is a...   \n",
       "3  Codeup strongly values diversity, and inclusio...   \n",
       "4  With many companies switching to cloud service...   \n",
       "5  Codeup’s Chief Operating Officer, Stephen Note...   \n",
       "\n",
       "                                       content_clean  \\\n",
       "0  codeup excited launch first diversity equity i...   \n",
       "1  codeup named 2022 diversity inclusion award wi...   \n",
       "2  deciding transition tech career big step signi...   \n",
       "3  codeup strongly values diversity inclusion hon...   \n",
       "4  many companies switching cloud services implem...   \n",
       "5  codeups chief operating officer stephen notebo...   \n",
       "\n",
       "                                     content_stemmed  \\\n",
       "0  codeup excit launch first divers equiti inclus...   \n",
       "1  codeup ha name 2022 divers inclus award winner...   \n",
       "2  decid transit tech career big step signific co...   \n",
       "3  codeup strongli valu divers inclus honor ameri...   \n",
       "4  mani compani switch cloud servic implement clo...   \n",
       "5  codeup chief oper offic stephen noteboom ha 20...   \n",
       "\n",
       "                                  content_lemmatized  \n",
       "0  codeup excited launch first diversity equity i...  \n",
       "1  codeup ha named 2022 diversity inclusion award...  \n",
       "2  deciding transition tech career big step signi...  \n",
       "3  codeup strongly value diversity inclusion hono...  \n",
       "4  many company switching cloud service implement...  \n",
       "5  codeups chief operating officer stephen notebo...  "
      ]
     },
     "execution_count": 88,
     "metadata": {},
     "output_type": "execute_result"
    }
   ],
   "source": [
    "prepare.clean_df_prep_exercise(blogs)"
   ]
  },
  {
   "cell_type": "code",
   "execution_count": 90,
   "id": "4b3c3591-771a-409f-8991-263d540d425c",
   "metadata": {},
   "outputs": [
    {
     "data": {
      "text/html": [
       "<div>\n",
       "<style scoped>\n",
       "    .dataframe tbody tr th:only-of-type {\n",
       "        vertical-align: middle;\n",
       "    }\n",
       "\n",
       "    .dataframe tbody tr th {\n",
       "        vertical-align: top;\n",
       "    }\n",
       "\n",
       "    .dataframe thead th {\n",
       "        text-align: right;\n",
       "    }\n",
       "</style>\n",
       "<table border=\"1\" class=\"dataframe\">\n",
       "  <thead>\n",
       "    <tr style=\"text-align: right;\">\n",
       "      <th></th>\n",
       "      <th>title</th>\n",
       "      <th>content</th>\n",
       "      <th>content_clean</th>\n",
       "    </tr>\n",
       "  </thead>\n",
       "  <tbody>\n",
       "    <tr>\n",
       "      <th>0</th>\n",
       "      <td>Diversity Equity and Inclusion Report</td>\n",
       "      <td>Codeup is excited to launch our first Diversit...</td>\n",
       "      <td>codeup excited launch first diversity equity i...</td>\n",
       "    </tr>\n",
       "    <tr>\n",
       "      <th>1</th>\n",
       "      <td>Codeup Honored as SABJ Diversity and Inclusion...</td>\n",
       "      <td>Codeup has been named the 2022 Diversity and I...</td>\n",
       "      <td>codeup ha named 2022 diversity inclusion award...</td>\n",
       "    </tr>\n",
       "    <tr>\n",
       "      <th>2</th>\n",
       "      <td>How Can I Finance My Career Transition?</td>\n",
       "      <td>Deciding to transition into a tech career is a...</td>\n",
       "      <td>deciding transition tech career big step signi...</td>\n",
       "    </tr>\n",
       "    <tr>\n",
       "      <th>3</th>\n",
       "      <td>Tips for Women Beginning a Career in Tech</td>\n",
       "      <td>Codeup strongly values diversity, and inclusio...</td>\n",
       "      <td>codeup strongly value diversity inclusion hono...</td>\n",
       "    </tr>\n",
       "    <tr>\n",
       "      <th>4</th>\n",
       "      <td>What is Cloud Computing and AWS?</td>\n",
       "      <td>With many companies switching to cloud service...</td>\n",
       "      <td>many company switching cloud service implement...</td>\n",
       "    </tr>\n",
       "    <tr>\n",
       "      <th>5</th>\n",
       "      <td>2022 SABJ C-Suite Award Winner: Stephen Noteboom</td>\n",
       "      <td>Codeup’s Chief Operating Officer, Stephen Note...</td>\n",
       "      <td>codeups chief operating officer stephen notebo...</td>\n",
       "    </tr>\n",
       "  </tbody>\n",
       "</table>\n",
       "</div>"
      ],
      "text/plain": [
       "                                               title  \\\n",
       "0              Diversity Equity and Inclusion Report   \n",
       "1  Codeup Honored as SABJ Diversity and Inclusion...   \n",
       "2            How Can I Finance My Career Transition?   \n",
       "3          Tips for Women Beginning a Career in Tech   \n",
       "4                   What is Cloud Computing and AWS?   \n",
       "5   2022 SABJ C-Suite Award Winner: Stephen Noteboom   \n",
       "\n",
       "                                             content  \\\n",
       "0  Codeup is excited to launch our first Diversit...   \n",
       "1  Codeup has been named the 2022 Diversity and I...   \n",
       "2  Deciding to transition into a tech career is a...   \n",
       "3  Codeup strongly values diversity, and inclusio...   \n",
       "4  With many companies switching to cloud service...   \n",
       "5  Codeup’s Chief Operating Officer, Stephen Note...   \n",
       "\n",
       "                                       content_clean  \n",
       "0  codeup excited launch first diversity equity i...  \n",
       "1  codeup ha named 2022 diversity inclusion award...  \n",
       "2  deciding transition tech career big step signi...  \n",
       "3  codeup strongly value diversity inclusion hono...  \n",
       "4  many company switching cloud service implement...  \n",
       "5  codeups chief operating officer stephen notebo...  "
      ]
     },
     "execution_count": 90,
     "metadata": {},
     "output_type": "execute_result"
    }
   ],
   "source": [
    "prepare.clean_df(blogs, ['content'])"
   ]
  },
  {
   "cell_type": "code",
   "execution_count": null,
   "id": "62fccb95-9a26-44c1-9e67-5d83c40a538f",
   "metadata": {},
   "outputs": [],
   "source": []
  }
 ],
 "metadata": {
  "kernelspec": {
   "display_name": "Python 3 (ipykernel)",
   "language": "python",
   "name": "python3"
  },
  "language_info": {
   "codemirror_mode": {
    "name": "ipython",
    "version": 3
   },
   "file_extension": ".py",
   "mimetype": "text/x-python",
   "name": "python",
   "nbconvert_exporter": "python",
   "pygments_lexer": "ipython3",
   "version": "3.9.12"
  }
 },
 "nbformat": 4,
 "nbformat_minor": 5
}
